{
 "cells": [
  {
   "cell_type": "markdown",
   "metadata": {
    "id": "wmMlYUTAsZ2m"
   },
   "source": [
    "# Data Understanding"
   ]
  },
  {
   "cell_type": "markdown",
   "metadata": {
    "id": "fyqokYShsZ2o"
   },
   "source": [
    "# Importing the Libraries & Dataset"
   ]
  },
  {
   "cell_type": "code",
   "execution_count": 1,
   "metadata": {
    "colab": {
     "base_uri": "https://localhost:8080/",
     "height": 258
    },
    "id": "Vf8i1n2jsZ2o",
    "outputId": "4efaa3e4-80ae-4760-fdc1-06427361d46e"
   },
   "outputs": [
    {
     "data": {
      "text/html": [
       "<div>\n",
       "<style scoped>\n",
       "    .dataframe tbody tr th:only-of-type {\n",
       "        vertical-align: middle;\n",
       "    }\n",
       "\n",
       "    .dataframe tbody tr th {\n",
       "        vertical-align: top;\n",
       "    }\n",
       "\n",
       "    .dataframe thead th {\n",
       "        text-align: right;\n",
       "    }\n",
       "</style>\n",
       "<table border=\"1\" class=\"dataframe\">\n",
       "  <thead>\n",
       "    <tr style=\"text-align: right;\">\n",
       "      <th></th>\n",
       "      <th>PID</th>\n",
       "      <th>Unnamed: 1</th>\n",
       "      <th>Unnamed: 2</th>\n",
       "      <th>PPID</th>\n",
       "      <th>Unnamed: 4</th>\n",
       "      <th>Unnamed: 5</th>\n",
       "      <th>Threads</th>\n",
       "      <th>Unnamed: 7</th>\n",
       "      <th>Unnamed: 8</th>\n",
       "      <th>Handles</th>\n",
       "      <th>...</th>\n",
       "      <th>Unnamed: 16</th>\n",
       "      <th>Unnamed: 17</th>\n",
       "      <th>Unnamed: 18</th>\n",
       "      <th>Unnamed: 19</th>\n",
       "      <th>Unnamed: 20</th>\n",
       "      <th>Unnamed: 21</th>\n",
       "      <th>Unnamed: 22</th>\n",
       "      <th>Unnamed: 23</th>\n",
       "      <th>Unnamed: 24</th>\n",
       "      <th>Unnamed: 25</th>\n",
       "    </tr>\n",
       "  </thead>\n",
       "  <tbody>\n",
       "    <tr>\n",
       "      <th>0</th>\n",
       "      <td>Mean</td>\n",
       "      <td>Variance</td>\n",
       "      <td>Standard Deviation</td>\n",
       "      <td>Mean</td>\n",
       "      <td>Variance</td>\n",
       "      <td>Standard Deviation</td>\n",
       "      <td>Mean</td>\n",
       "      <td>Variance</td>\n",
       "      <td>Standard Deviation</td>\n",
       "      <td>Mean</td>\n",
       "      <td>...</td>\n",
       "      <td>Variance</td>\n",
       "      <td>Standard Deviation</td>\n",
       "      <td>NaN</td>\n",
       "      <td>NaN</td>\n",
       "      <td>label</td>\n",
       "      <td>NaN</td>\n",
       "      <td>NaN</td>\n",
       "      <td>NaN</td>\n",
       "      <td>NaN</td>\n",
       "      <td>NaN</td>\n",
       "    </tr>\n",
       "    <tr>\n",
       "      <th>1</th>\n",
       "      <td>1209.365854</td>\n",
       "      <td>696153.2878</td>\n",
       "      <td>834.3580094</td>\n",
       "      <td>719.1219512</td>\n",
       "      <td>525958.8098</td>\n",
       "      <td>725.2301771</td>\n",
       "      <td>12.63414634</td>\n",
       "      <td>164.3878049</td>\n",
       "      <td>12.82138077</td>\n",
       "      <td>285.8780488</td>\n",
       "      <td>...</td>\n",
       "      <td>0</td>\n",
       "      <td>0</td>\n",
       "      <td>NaN</td>\n",
       "      <td>NaN</td>\n",
       "      <td>0</td>\n",
       "      <td>NaN</td>\n",
       "      <td>NaN</td>\n",
       "      <td>NaN</td>\n",
       "      <td>NaN</td>\n",
       "      <td>NaN</td>\n",
       "    </tr>\n",
       "    <tr>\n",
       "      <th>2</th>\n",
       "      <td>1209.365854</td>\n",
       "      <td>696153.2878</td>\n",
       "      <td>834.3580094</td>\n",
       "      <td>719.1219512</td>\n",
       "      <td>525958.8098</td>\n",
       "      <td>725.2301771</td>\n",
       "      <td>12.51219512</td>\n",
       "      <td>175.4060976</td>\n",
       "      <td>13.24409671</td>\n",
       "      <td>288</td>\n",
       "      <td>...</td>\n",
       "      <td>0</td>\n",
       "      <td>0</td>\n",
       "      <td>NaN</td>\n",
       "      <td>NaN</td>\n",
       "      <td>0</td>\n",
       "      <td>NaN</td>\n",
       "      <td>NaN</td>\n",
       "      <td>NaN</td>\n",
       "      <td>NaN</td>\n",
       "      <td>NaN</td>\n",
       "    </tr>\n",
       "    <tr>\n",
       "      <th>3</th>\n",
       "      <td>1209.365854</td>\n",
       "      <td>696153.2878</td>\n",
       "      <td>834.3580094</td>\n",
       "      <td>719.1219512</td>\n",
       "      <td>525958.8098</td>\n",
       "      <td>725.2301771</td>\n",
       "      <td>12.73170732</td>\n",
       "      <td>171.4012195</td>\n",
       "      <td>13.09202885</td>\n",
       "      <td>289.4390244</td>\n",
       "      <td>...</td>\n",
       "      <td>0</td>\n",
       "      <td>0</td>\n",
       "      <td>NaN</td>\n",
       "      <td>NaN</td>\n",
       "      <td>0</td>\n",
       "      <td>NaN</td>\n",
       "      <td>NaN</td>\n",
       "      <td>NaN</td>\n",
       "      <td>NaN</td>\n",
       "      <td>NaN</td>\n",
       "    </tr>\n",
       "    <tr>\n",
       "      <th>4</th>\n",
       "      <td>1209.365854</td>\n",
       "      <td>696153.2878</td>\n",
       "      <td>834.3580094</td>\n",
       "      <td>719.1219512</td>\n",
       "      <td>525958.8098</td>\n",
       "      <td>725.2301771</td>\n",
       "      <td>12.68292683</td>\n",
       "      <td>175.7719512</td>\n",
       "      <td>13.25790146</td>\n",
       "      <td>289.3902439</td>\n",
       "      <td>...</td>\n",
       "      <td>0</td>\n",
       "      <td>0</td>\n",
       "      <td>NaN</td>\n",
       "      <td>NaN</td>\n",
       "      <td>0</td>\n",
       "      <td>NaN</td>\n",
       "      <td>NaN</td>\n",
       "      <td>NaN</td>\n",
       "      <td>NaN</td>\n",
       "      <td>NaN</td>\n",
       "    </tr>\n",
       "  </tbody>\n",
       "</table>\n",
       "<p>5 rows × 26 columns</p>\n",
       "</div>"
      ],
      "text/plain": [
       "           PID   Unnamed: 1          Unnamed: 2         PPID   Unnamed: 4  \\\n",
       "0         Mean     Variance  Standard Deviation         Mean     Variance   \n",
       "1  1209.365854  696153.2878         834.3580094  719.1219512  525958.8098   \n",
       "2  1209.365854  696153.2878         834.3580094  719.1219512  525958.8098   \n",
       "3  1209.365854  696153.2878         834.3580094  719.1219512  525958.8098   \n",
       "4  1209.365854  696153.2878         834.3580094  719.1219512  525958.8098   \n",
       "\n",
       "           Unnamed: 5      Threads   Unnamed: 7          Unnamed: 8  \\\n",
       "0  Standard Deviation         Mean     Variance  Standard Deviation   \n",
       "1         725.2301771  12.63414634  164.3878049         12.82138077   \n",
       "2         725.2301771  12.51219512  175.4060976         13.24409671   \n",
       "3         725.2301771  12.73170732  171.4012195         13.09202885   \n",
       "4         725.2301771  12.68292683  175.7719512         13.25790146   \n",
       "\n",
       "       Handles  ... Unnamed: 16         Unnamed: 17 Unnamed: 18 Unnamed: 19  \\\n",
       "0         Mean  ...    Variance  Standard Deviation         NaN         NaN   \n",
       "1  285.8780488  ...           0                   0         NaN         NaN   \n",
       "2          288  ...           0                   0         NaN         NaN   \n",
       "3  289.4390244  ...           0                   0         NaN         NaN   \n",
       "4  289.3902439  ...           0                   0         NaN         NaN   \n",
       "\n",
       "  Unnamed: 20 Unnamed: 21 Unnamed: 22 Unnamed: 23  Unnamed: 24  Unnamed: 25  \n",
       "0       label         NaN         NaN         NaN          NaN          NaN  \n",
       "1           0         NaN         NaN         NaN          NaN          NaN  \n",
       "2           0         NaN         NaN         NaN          NaN          NaN  \n",
       "3           0         NaN         NaN         NaN          NaN          NaN  \n",
       "4           0         NaN         NaN         NaN          NaN          NaN  \n",
       "\n",
       "[5 rows x 26 columns]"
      ]
     },
     "execution_count": 1,
     "metadata": {},
     "output_type": "execute_result"
    }
   ],
   "source": [
    "import numpy as np\n",
    "import pandas as pd\n",
    "\n",
    "data = pd.read_csv('https://raw.githubusercontent.com/AhmedB255/BINF-820---Bachelor-Thesis/main/Test_Withoutnetscan.csv')\n",
    "\n",
    "data.head()"
   ]
  },
  {
   "cell_type": "markdown",
   "metadata": {
    "id": "2JBCovg_sZ2q"
   },
   "source": [
    "We will first remove the last few columns as they are not needed."
   ]
  },
  {
   "cell_type": "code",
   "execution_count": 2,
   "metadata": {
    "colab": {
     "base_uri": "https://localhost:8080/",
     "height": 258
    },
    "id": "79YfVTKVsZ2q",
    "outputId": "72f4be7e-d96f-408e-9f65-5d62eb04e55d"
   },
   "outputs": [
    {
     "data": {
      "text/html": [
       "<div>\n",
       "<style scoped>\n",
       "    .dataframe tbody tr th:only-of-type {\n",
       "        vertical-align: middle;\n",
       "    }\n",
       "\n",
       "    .dataframe tbody tr th {\n",
       "        vertical-align: top;\n",
       "    }\n",
       "\n",
       "    .dataframe thead th {\n",
       "        text-align: right;\n",
       "    }\n",
       "</style>\n",
       "<table border=\"1\" class=\"dataframe\">\n",
       "  <thead>\n",
       "    <tr style=\"text-align: right;\">\n",
       "      <th></th>\n",
       "      <th>PID</th>\n",
       "      <th>Unnamed: 1</th>\n",
       "      <th>Unnamed: 2</th>\n",
       "      <th>PPID</th>\n",
       "      <th>Unnamed: 4</th>\n",
       "      <th>Unnamed: 5</th>\n",
       "      <th>Threads</th>\n",
       "      <th>Unnamed: 7</th>\n",
       "      <th>Unnamed: 8</th>\n",
       "      <th>Handles</th>\n",
       "      <th>...</th>\n",
       "      <th>Unnamed: 11</th>\n",
       "      <th>Session</th>\n",
       "      <th>Unnamed: 13</th>\n",
       "      <th>Unnamed: 14</th>\n",
       "      <th>Status</th>\n",
       "      <th>Unnamed: 16</th>\n",
       "      <th>Unnamed: 17</th>\n",
       "      <th>Unnamed: 18</th>\n",
       "      <th>Unnamed: 19</th>\n",
       "      <th>Unnamed: 20</th>\n",
       "    </tr>\n",
       "  </thead>\n",
       "  <tbody>\n",
       "    <tr>\n",
       "      <th>0</th>\n",
       "      <td>Mean</td>\n",
       "      <td>Variance</td>\n",
       "      <td>Standard Deviation</td>\n",
       "      <td>Mean</td>\n",
       "      <td>Variance</td>\n",
       "      <td>Standard Deviation</td>\n",
       "      <td>Mean</td>\n",
       "      <td>Variance</td>\n",
       "      <td>Standard Deviation</td>\n",
       "      <td>Mean</td>\n",
       "      <td>...</td>\n",
       "      <td>Standard Deviation</td>\n",
       "      <td>Mean</td>\n",
       "      <td>Variance</td>\n",
       "      <td>Standard Deviation</td>\n",
       "      <td>Mean</td>\n",
       "      <td>Variance</td>\n",
       "      <td>Standard Deviation</td>\n",
       "      <td>NaN</td>\n",
       "      <td>NaN</td>\n",
       "      <td>label</td>\n",
       "    </tr>\n",
       "    <tr>\n",
       "      <th>1</th>\n",
       "      <td>1209.365854</td>\n",
       "      <td>696153.2878</td>\n",
       "      <td>834.3580094</td>\n",
       "      <td>719.1219512</td>\n",
       "      <td>525958.8098</td>\n",
       "      <td>725.2301771</td>\n",
       "      <td>12.63414634</td>\n",
       "      <td>164.3878049</td>\n",
       "      <td>12.82138077</td>\n",
       "      <td>285.8780488</td>\n",
       "      <td>...</td>\n",
       "      <td>277.9671019</td>\n",
       "      <td>0.195121951</td>\n",
       "      <td>0.26097561</td>\n",
       "      <td>0.51085772</td>\n",
       "      <td>1</td>\n",
       "      <td>0</td>\n",
       "      <td>0</td>\n",
       "      <td>NaN</td>\n",
       "      <td>NaN</td>\n",
       "      <td>0</td>\n",
       "    </tr>\n",
       "    <tr>\n",
       "      <th>2</th>\n",
       "      <td>1209.365854</td>\n",
       "      <td>696153.2878</td>\n",
       "      <td>834.3580094</td>\n",
       "      <td>719.1219512</td>\n",
       "      <td>525958.8098</td>\n",
       "      <td>725.2301771</td>\n",
       "      <td>12.51219512</td>\n",
       "      <td>175.4060976</td>\n",
       "      <td>13.24409671</td>\n",
       "      <td>288</td>\n",
       "      <td>...</td>\n",
       "      <td>277.5891749</td>\n",
       "      <td>0.195121951</td>\n",
       "      <td>0.26097561</td>\n",
       "      <td>0.51085772</td>\n",
       "      <td>1</td>\n",
       "      <td>0</td>\n",
       "      <td>0</td>\n",
       "      <td>NaN</td>\n",
       "      <td>NaN</td>\n",
       "      <td>0</td>\n",
       "    </tr>\n",
       "    <tr>\n",
       "      <th>3</th>\n",
       "      <td>1209.365854</td>\n",
       "      <td>696153.2878</td>\n",
       "      <td>834.3580094</td>\n",
       "      <td>719.1219512</td>\n",
       "      <td>525958.8098</td>\n",
       "      <td>725.2301771</td>\n",
       "      <td>12.73170732</td>\n",
       "      <td>171.4012195</td>\n",
       "      <td>13.09202885</td>\n",
       "      <td>289.4390244</td>\n",
       "      <td>...</td>\n",
       "      <td>277.1625019</td>\n",
       "      <td>0.195121951</td>\n",
       "      <td>0.26097561</td>\n",
       "      <td>0.51085772</td>\n",
       "      <td>1</td>\n",
       "      <td>0</td>\n",
       "      <td>0</td>\n",
       "      <td>NaN</td>\n",
       "      <td>NaN</td>\n",
       "      <td>0</td>\n",
       "    </tr>\n",
       "    <tr>\n",
       "      <th>4</th>\n",
       "      <td>1209.365854</td>\n",
       "      <td>696153.2878</td>\n",
       "      <td>834.3580094</td>\n",
       "      <td>719.1219512</td>\n",
       "      <td>525958.8098</td>\n",
       "      <td>725.2301771</td>\n",
       "      <td>12.68292683</td>\n",
       "      <td>175.7719512</td>\n",
       "      <td>13.25790146</td>\n",
       "      <td>289.3902439</td>\n",
       "      <td>...</td>\n",
       "      <td>276.5744817</td>\n",
       "      <td>0.195121951</td>\n",
       "      <td>0.26097561</td>\n",
       "      <td>0.51085772</td>\n",
       "      <td>1</td>\n",
       "      <td>0</td>\n",
       "      <td>0</td>\n",
       "      <td>NaN</td>\n",
       "      <td>NaN</td>\n",
       "      <td>0</td>\n",
       "    </tr>\n",
       "  </tbody>\n",
       "</table>\n",
       "<p>5 rows × 21 columns</p>\n",
       "</div>"
      ],
      "text/plain": [
       "           PID   Unnamed: 1          Unnamed: 2         PPID   Unnamed: 4  \\\n",
       "0         Mean     Variance  Standard Deviation         Mean     Variance   \n",
       "1  1209.365854  696153.2878         834.3580094  719.1219512  525958.8098   \n",
       "2  1209.365854  696153.2878         834.3580094  719.1219512  525958.8098   \n",
       "3  1209.365854  696153.2878         834.3580094  719.1219512  525958.8098   \n",
       "4  1209.365854  696153.2878         834.3580094  719.1219512  525958.8098   \n",
       "\n",
       "           Unnamed: 5      Threads   Unnamed: 7          Unnamed: 8  \\\n",
       "0  Standard Deviation         Mean     Variance  Standard Deviation   \n",
       "1         725.2301771  12.63414634  164.3878049         12.82138077   \n",
       "2         725.2301771  12.51219512  175.4060976         13.24409671   \n",
       "3         725.2301771  12.73170732  171.4012195         13.09202885   \n",
       "4         725.2301771  12.68292683  175.7719512         13.25790146   \n",
       "\n",
       "       Handles  ...         Unnamed: 11      Session Unnamed: 13  \\\n",
       "0         Mean  ...  Standard Deviation         Mean    Variance   \n",
       "1  285.8780488  ...         277.9671019  0.195121951  0.26097561   \n",
       "2          288  ...         277.5891749  0.195121951  0.26097561   \n",
       "3  289.4390244  ...         277.1625019  0.195121951  0.26097561   \n",
       "4  289.3902439  ...         276.5744817  0.195121951  0.26097561   \n",
       "\n",
       "          Unnamed: 14 Status Unnamed: 16         Unnamed: 17 Unnamed: 18  \\\n",
       "0  Standard Deviation   Mean    Variance  Standard Deviation         NaN   \n",
       "1          0.51085772      1           0                   0         NaN   \n",
       "2          0.51085772      1           0                   0         NaN   \n",
       "3          0.51085772      1           0                   0         NaN   \n",
       "4          0.51085772      1           0                   0         NaN   \n",
       "\n",
       "   Unnamed: 19  Unnamed: 20  \n",
       "0          NaN        label  \n",
       "1          NaN            0  \n",
       "2          NaN            0  \n",
       "3          NaN            0  \n",
       "4          NaN            0  \n",
       "\n",
       "[5 rows x 21 columns]"
      ]
     },
     "execution_count": 2,
     "metadata": {},
     "output_type": "execute_result"
    }
   ],
   "source": [
    "data = data.iloc[:, :-5]\n",
    "\n",
    "data.head()"
   ]
  },
  {
   "cell_type": "markdown",
   "metadata": {
    "id": "Dev2WsiSsZ2q"
   },
   "source": [
    "Then, we will change the name of the columns and focus on the data starting from the second row."
   ]
  },
  {
   "cell_type": "code",
   "execution_count": 3,
   "metadata": {
    "colab": {
     "base_uri": "https://localhost:8080/",
     "height": 224
    },
    "id": "FAK5AeltsZ2q",
    "outputId": "adb4f528-81cc-4e96-934b-bd3946e62f90"
   },
   "outputs": [
    {
     "data": {
      "text/html": [
       "<div>\n",
       "<style scoped>\n",
       "    .dataframe tbody tr th:only-of-type {\n",
       "        vertical-align: middle;\n",
       "    }\n",
       "\n",
       "    .dataframe tbody tr th {\n",
       "        vertical-align: top;\n",
       "    }\n",
       "\n",
       "    .dataframe thead th {\n",
       "        text-align: right;\n",
       "    }\n",
       "</style>\n",
       "<table border=\"1\" class=\"dataframe\">\n",
       "  <thead>\n",
       "    <tr style=\"text-align: right;\">\n",
       "      <th></th>\n",
       "      <th>PID_mean</th>\n",
       "      <th>PID_var</th>\n",
       "      <th>PID_std</th>\n",
       "      <th>PPID_mean</th>\n",
       "      <th>PPID_var</th>\n",
       "      <th>PPID_std</th>\n",
       "      <th>Threads_mean</th>\n",
       "      <th>Threads_var</th>\n",
       "      <th>Threads_std</th>\n",
       "      <th>Handles_mean</th>\n",
       "      <th>Handles_var</th>\n",
       "      <th>Handles_std</th>\n",
       "      <th>Session_mean</th>\n",
       "      <th>Session_var</th>\n",
       "      <th>Session_std</th>\n",
       "      <th>Status_mean</th>\n",
       "      <th>Status_var</th>\n",
       "      <th>Status_std</th>\n",
       "      <th>Label</th>\n",
       "    </tr>\n",
       "  </thead>\n",
       "  <tbody>\n",
       "    <tr>\n",
       "      <th>1</th>\n",
       "      <td>1209.365854</td>\n",
       "      <td>696153.2878</td>\n",
       "      <td>834.3580094</td>\n",
       "      <td>719.1219512</td>\n",
       "      <td>525958.8098</td>\n",
       "      <td>725.2301771</td>\n",
       "      <td>12.63414634</td>\n",
       "      <td>164.3878049</td>\n",
       "      <td>12.82138077</td>\n",
       "      <td>285.8780488</td>\n",
       "      <td>77265.70976</td>\n",
       "      <td>277.9671019</td>\n",
       "      <td>0.195121951</td>\n",
       "      <td>0.26097561</td>\n",
       "      <td>0.51085772</td>\n",
       "      <td>1</td>\n",
       "      <td>0</td>\n",
       "      <td>0</td>\n",
       "      <td>0</td>\n",
       "    </tr>\n",
       "    <tr>\n",
       "      <th>2</th>\n",
       "      <td>1209.365854</td>\n",
       "      <td>696153.2878</td>\n",
       "      <td>834.3580094</td>\n",
       "      <td>719.1219512</td>\n",
       "      <td>525958.8098</td>\n",
       "      <td>725.2301771</td>\n",
       "      <td>12.51219512</td>\n",
       "      <td>175.4060976</td>\n",
       "      <td>13.24409671</td>\n",
       "      <td>288</td>\n",
       "      <td>77055.75</td>\n",
       "      <td>277.5891749</td>\n",
       "      <td>0.195121951</td>\n",
       "      <td>0.26097561</td>\n",
       "      <td>0.51085772</td>\n",
       "      <td>1</td>\n",
       "      <td>0</td>\n",
       "      <td>0</td>\n",
       "      <td>0</td>\n",
       "    </tr>\n",
       "    <tr>\n",
       "      <th>3</th>\n",
       "      <td>1209.365854</td>\n",
       "      <td>696153.2878</td>\n",
       "      <td>834.3580094</td>\n",
       "      <td>719.1219512</td>\n",
       "      <td>525958.8098</td>\n",
       "      <td>725.2301771</td>\n",
       "      <td>12.73170732</td>\n",
       "      <td>171.4012195</td>\n",
       "      <td>13.09202885</td>\n",
       "      <td>289.4390244</td>\n",
       "      <td>76819.05244</td>\n",
       "      <td>277.1625019</td>\n",
       "      <td>0.195121951</td>\n",
       "      <td>0.26097561</td>\n",
       "      <td>0.51085772</td>\n",
       "      <td>1</td>\n",
       "      <td>0</td>\n",
       "      <td>0</td>\n",
       "      <td>0</td>\n",
       "    </tr>\n",
       "    <tr>\n",
       "      <th>4</th>\n",
       "      <td>1209.365854</td>\n",
       "      <td>696153.2878</td>\n",
       "      <td>834.3580094</td>\n",
       "      <td>719.1219512</td>\n",
       "      <td>525958.8098</td>\n",
       "      <td>725.2301771</td>\n",
       "      <td>12.68292683</td>\n",
       "      <td>175.7719512</td>\n",
       "      <td>13.25790146</td>\n",
       "      <td>289.3902439</td>\n",
       "      <td>76493.4439</td>\n",
       "      <td>276.5744817</td>\n",
       "      <td>0.195121951</td>\n",
       "      <td>0.26097561</td>\n",
       "      <td>0.51085772</td>\n",
       "      <td>1</td>\n",
       "      <td>0</td>\n",
       "      <td>0</td>\n",
       "      <td>0</td>\n",
       "    </tr>\n",
       "    <tr>\n",
       "      <th>5</th>\n",
       "      <td>1209.365854</td>\n",
       "      <td>696153.2878</td>\n",
       "      <td>834.3580094</td>\n",
       "      <td>719.1219512</td>\n",
       "      <td>525958.8098</td>\n",
       "      <td>725.2301771</td>\n",
       "      <td>14.31707317</td>\n",
       "      <td>218.1719512</td>\n",
       "      <td>14.77064492</td>\n",
       "      <td>296.2439024</td>\n",
       "      <td>84436.23902</td>\n",
       "      <td>290.5791442</td>\n",
       "      <td>0.195121951</td>\n",
       "      <td>0.26097561</td>\n",
       "      <td>0.51085772</td>\n",
       "      <td>1</td>\n",
       "      <td>0</td>\n",
       "      <td>0</td>\n",
       "      <td>0</td>\n",
       "    </tr>\n",
       "  </tbody>\n",
       "</table>\n",
       "</div>"
      ],
      "text/plain": [
       "      PID_mean      PID_var      PID_std    PPID_mean     PPID_var  \\\n",
       "1  1209.365854  696153.2878  834.3580094  719.1219512  525958.8098   \n",
       "2  1209.365854  696153.2878  834.3580094  719.1219512  525958.8098   \n",
       "3  1209.365854  696153.2878  834.3580094  719.1219512  525958.8098   \n",
       "4  1209.365854  696153.2878  834.3580094  719.1219512  525958.8098   \n",
       "5  1209.365854  696153.2878  834.3580094  719.1219512  525958.8098   \n",
       "\n",
       "      PPID_std Threads_mean  Threads_var  Threads_std Handles_mean  \\\n",
       "1  725.2301771  12.63414634  164.3878049  12.82138077  285.8780488   \n",
       "2  725.2301771  12.51219512  175.4060976  13.24409671          288   \n",
       "3  725.2301771  12.73170732  171.4012195  13.09202885  289.4390244   \n",
       "4  725.2301771  12.68292683  175.7719512  13.25790146  289.3902439   \n",
       "5  725.2301771  14.31707317  218.1719512  14.77064492  296.2439024   \n",
       "\n",
       "   Handles_var  Handles_std Session_mean Session_var Session_std Status_mean  \\\n",
       "1  77265.70976  277.9671019  0.195121951  0.26097561  0.51085772           1   \n",
       "2     77055.75  277.5891749  0.195121951  0.26097561  0.51085772           1   \n",
       "3  76819.05244  277.1625019  0.195121951  0.26097561  0.51085772           1   \n",
       "4   76493.4439  276.5744817  0.195121951  0.26097561  0.51085772           1   \n",
       "5  84436.23902  290.5791442  0.195121951  0.26097561  0.51085772           1   \n",
       "\n",
       "  Status_var Status_std Label  \n",
       "1          0          0     0  \n",
       "2          0          0     0  \n",
       "3          0          0     0  \n",
       "4          0          0     0  \n",
       "5          0          0     0  "
      ]
     },
     "execution_count": 3,
     "metadata": {},
     "output_type": "execute_result"
    }
   ],
   "source": [
    "columns = ['PID_mean', 'PID_var', 'PID_std',\n",
    "           'PPID_mean', 'PPID_var', 'PPID_std',\n",
    "           'Threads_mean', 'Threads_var', 'Threads_std',\n",
    "           'Handles_mean', 'Handles_var', 'Handles_std',\n",
    "           'Session_mean', 'Session_var', 'Session_std',\n",
    "           'Status_mean', 'Status_var', 'Status_std',\n",
    "          'Unknown1', 'Unknown2', 'Label']\n",
    "\n",
    "data.columns = columns\n",
    "\n",
    "data = data.drop(['Unknown1', 'Unknown2'], axis=1)\n",
    "\n",
    "data = data.iloc[1:]\n",
    "\n",
    "data.head()"
   ]
  },
  {
   "cell_type": "code",
   "execution_count": 4,
   "metadata": {
    "colab": {
     "base_uri": "https://localhost:8080/"
    },
    "id": "y0bw1_tXsZ2r",
    "outputId": "c0bf9ab3-935a-4775-f384-7c2350778ab7"
   },
   "outputs": [
    {
     "data": {
      "text/plain": [
       "(767, 19)"
      ]
     },
     "execution_count": 4,
     "metadata": {},
     "output_type": "execute_result"
    }
   ],
   "source": [
    "data.shape"
   ]
  },
  {
   "cell_type": "code",
   "execution_count": 5,
   "metadata": {
    "colab": {
     "base_uri": "https://localhost:8080/"
    },
    "id": "fLVXxFm3sZ2r",
    "outputId": "936453a5-b2a9-4d29-cc26-1ce9cb2e1fd7"
   },
   "outputs": [
    {
     "name": "stdout",
     "output_type": "stream",
     "text": [
      "<class 'pandas.core.frame.DataFrame'>\n",
      "RangeIndex: 767 entries, 1 to 767\n",
      "Data columns (total 19 columns):\n",
      " #   Column        Non-Null Count  Dtype \n",
      "---  ------        --------------  ----- \n",
      " 0   PID_mean      764 non-null    object\n",
      " 1   PID_var       764 non-null    object\n",
      " 2   PID_std       764 non-null    object\n",
      " 3   PPID_mean     764 non-null    object\n",
      " 4   PPID_var      764 non-null    object\n",
      " 5   PPID_std      764 non-null    object\n",
      " 6   Threads_mean  764 non-null    object\n",
      " 7   Threads_var   764 non-null    object\n",
      " 8   Threads_std   764 non-null    object\n",
      " 9   Handles_mean  764 non-null    object\n",
      " 10  Handles_var   764 non-null    object\n",
      " 11  Handles_std   764 non-null    object\n",
      " 12  Session_mean  764 non-null    object\n",
      " 13  Session_var   764 non-null    object\n",
      " 14  Session_std   764 non-null    object\n",
      " 15  Status_mean   764 non-null    object\n",
      " 16  Status_var    764 non-null    object\n",
      " 17  Status_std    764 non-null    object\n",
      " 18  Label         767 non-null    object\n",
      "dtypes: object(19)\n",
      "memory usage: 114.0+ KB\n"
     ]
    }
   ],
   "source": [
    "data.info()"
   ]
  },
  {
   "cell_type": "code",
   "execution_count": 6,
   "metadata": {
    "colab": {
     "base_uri": "https://localhost:8080/",
     "height": 193
    },
    "id": "HDjS-9oLsZ2s",
    "outputId": "2401739b-44b7-403d-c4a0-88f050a7f90e"
   },
   "outputs": [
    {
     "data": {
      "text/html": [
       "<div>\n",
       "<style scoped>\n",
       "    .dataframe tbody tr th:only-of-type {\n",
       "        vertical-align: middle;\n",
       "    }\n",
       "\n",
       "    .dataframe tbody tr th {\n",
       "        vertical-align: top;\n",
       "    }\n",
       "\n",
       "    .dataframe thead th {\n",
       "        text-align: right;\n",
       "    }\n",
       "</style>\n",
       "<table border=\"1\" class=\"dataframe\">\n",
       "  <thead>\n",
       "    <tr style=\"text-align: right;\">\n",
       "      <th></th>\n",
       "      <th>PID_mean</th>\n",
       "      <th>PID_var</th>\n",
       "      <th>PID_std</th>\n",
       "      <th>PPID_mean</th>\n",
       "      <th>PPID_var</th>\n",
       "      <th>PPID_std</th>\n",
       "      <th>Threads_mean</th>\n",
       "      <th>Threads_var</th>\n",
       "      <th>Threads_std</th>\n",
       "      <th>Handles_mean</th>\n",
       "      <th>Handles_var</th>\n",
       "      <th>Handles_std</th>\n",
       "      <th>Session_mean</th>\n",
       "      <th>Session_var</th>\n",
       "      <th>Session_std</th>\n",
       "      <th>Status_mean</th>\n",
       "      <th>Status_var</th>\n",
       "      <th>Status_std</th>\n",
       "      <th>Label</th>\n",
       "    </tr>\n",
       "  </thead>\n",
       "  <tbody>\n",
       "    <tr>\n",
       "      <th>count</th>\n",
       "      <td>764</td>\n",
       "      <td>764</td>\n",
       "      <td>764</td>\n",
       "      <td>764</td>\n",
       "      <td>764</td>\n",
       "      <td>764</td>\n",
       "      <td>764</td>\n",
       "      <td>764</td>\n",
       "      <td>764</td>\n",
       "      <td>764</td>\n",
       "      <td>764</td>\n",
       "      <td>764</td>\n",
       "      <td>764</td>\n",
       "      <td>764</td>\n",
       "      <td>764</td>\n",
       "      <td>764</td>\n",
       "      <td>764</td>\n",
       "      <td>764</td>\n",
       "      <td>767</td>\n",
       "    </tr>\n",
       "    <tr>\n",
       "      <th>unique</th>\n",
       "      <td>443</td>\n",
       "      <td>450</td>\n",
       "      <td>450</td>\n",
       "      <td>373</td>\n",
       "      <td>376</td>\n",
       "      <td>376</td>\n",
       "      <td>410</td>\n",
       "      <td>760</td>\n",
       "      <td>760</td>\n",
       "      <td>734</td>\n",
       "      <td>763</td>\n",
       "      <td>763</td>\n",
       "      <td>72</td>\n",
       "      <td>75</td>\n",
       "      <td>75</td>\n",
       "      <td>22</td>\n",
       "      <td>22</td>\n",
       "      <td>22</td>\n",
       "      <td>2</td>\n",
       "    </tr>\n",
       "    <tr>\n",
       "      <th>top</th>\n",
       "      <td>1312.622222</td>\n",
       "      <td>542130.9175</td>\n",
       "      <td>736.295401</td>\n",
       "      <td>613.8461538</td>\n",
       "      <td>238398.1862</td>\n",
       "      <td>488.2603673</td>\n",
       "      <td>12.5</td>\n",
       "      <td>193.3333333</td>\n",
       "      <td>13.69921198</td>\n",
       "      <td>276.9767442</td>\n",
       "      <td>75474.80399</td>\n",
       "      <td>274.7267806</td>\n",
       "      <td>0.23255814</td>\n",
       "      <td>0.277962348</td>\n",
       "      <td>0.527221346</td>\n",
       "      <td>1</td>\n",
       "      <td>0</td>\n",
       "      <td>0</td>\n",
       "      <td>1</td>\n",
       "    </tr>\n",
       "    <tr>\n",
       "      <th>freq</th>\n",
       "      <td>10</td>\n",
       "      <td>10</td>\n",
       "      <td>10</td>\n",
       "      <td>13</td>\n",
       "      <td>13</td>\n",
       "      <td>13</td>\n",
       "      <td>9</td>\n",
       "      <td>2</td>\n",
       "      <td>2</td>\n",
       "      <td>3</td>\n",
       "      <td>2</td>\n",
       "      <td>2</td>\n",
       "      <td>65</td>\n",
       "      <td>65</td>\n",
       "      <td>65</td>\n",
       "      <td>714</td>\n",
       "      <td>714</td>\n",
       "      <td>714</td>\n",
       "      <td>436</td>\n",
       "    </tr>\n",
       "  </tbody>\n",
       "</table>\n",
       "</div>"
      ],
      "text/plain": [
       "           PID_mean      PID_var     PID_std    PPID_mean     PPID_var  \\\n",
       "count           764          764         764          764          764   \n",
       "unique          443          450         450          373          376   \n",
       "top     1312.622222  542130.9175  736.295401  613.8461538  238398.1862   \n",
       "freq             10           10          10           13           13   \n",
       "\n",
       "           PPID_std Threads_mean  Threads_var  Threads_std Handles_mean  \\\n",
       "count           764          764          764          764          764   \n",
       "unique          376          410          760          760          734   \n",
       "top     488.2603673         12.5  193.3333333  13.69921198  276.9767442   \n",
       "freq             13            9            2            2            3   \n",
       "\n",
       "        Handles_var  Handles_std Session_mean  Session_var  Session_std  \\\n",
       "count           764          764          764          764          764   \n",
       "unique          763          763           72           75           75   \n",
       "top     75474.80399  274.7267806   0.23255814  0.277962348  0.527221346   \n",
       "freq              2            2           65           65           65   \n",
       "\n",
       "       Status_mean Status_var Status_std Label  \n",
       "count          764        764        764   767  \n",
       "unique          22         22         22     2  \n",
       "top              1          0          0     1  \n",
       "freq           714        714        714   436  "
      ]
     },
     "execution_count": 6,
     "metadata": {},
     "output_type": "execute_result"
    }
   ],
   "source": [
    "data.describe()"
   ]
  },
  {
   "cell_type": "markdown",
   "metadata": {
    "id": "0aQf0jqAsZ2s"
   },
   "source": [
    "# Data Preparation"
   ]
  },
  {
   "cell_type": "markdown",
   "metadata": {
    "id": "cTTCCEbTsZ2s"
   },
   "source": [
    "The Data Preparation phase is the most important phase in this project, and it is the phase in which we use feature selection."
   ]
  },
  {
   "cell_type": "markdown",
   "metadata": {
    "id": "QnxyIrmGsZ2s"
   },
   "source": [
    "## Data Cleaning"
   ]
  },
  {
   "cell_type": "markdown",
   "metadata": {
    "id": "yHQ7R-LhsZ2s"
   },
   "source": [
    "In this phase, we will only check for missing values. Inconsistencies in this case are considered to be anomalies and we will check for them in the modelling phase.\n",
    "\n",
    "So, let's check if there are any null values in the dataset."
   ]
  },
  {
   "cell_type": "code",
   "execution_count": 7,
   "metadata": {
    "colab": {
     "base_uri": "https://localhost:8080/"
    },
    "id": "3PLFsXMrsZ2t",
    "outputId": "dd76a273-eab7-4079-ba54-9a8210665a9c"
   },
   "outputs": [
    {
     "data": {
      "text/plain": [
       "PID_mean         True\n",
       "PID_var          True\n",
       "PID_std          True\n",
       "PPID_mean        True\n",
       "PPID_var         True\n",
       "PPID_std         True\n",
       "Threads_mean     True\n",
       "Threads_var      True\n",
       "Threads_std      True\n",
       "Handles_mean     True\n",
       "Handles_var      True\n",
       "Handles_std      True\n",
       "Session_mean     True\n",
       "Session_var      True\n",
       "Session_std      True\n",
       "Status_mean      True\n",
       "Status_var       True\n",
       "Status_std       True\n",
       "Label           False\n",
       "dtype: bool"
      ]
     },
     "execution_count": 7,
     "metadata": {},
     "output_type": "execute_result"
    }
   ],
   "source": [
    "data.isnull().any()"
   ]
  },
  {
   "cell_type": "markdown",
   "metadata": {
    "id": "haPo5CySsZ2t"
   },
   "source": [
    "There are null values in this dataset. Let's check how many."
   ]
  },
  {
   "cell_type": "code",
   "execution_count": 8,
   "metadata": {
    "colab": {
     "base_uri": "https://localhost:8080/"
    },
    "id": "qqVZsxTnsZ2t",
    "outputId": "5498a805-dfc9-4ceb-d6c7-b77bfe563e43"
   },
   "outputs": [
    {
     "data": {
      "text/plain": [
       "PID_mean        3\n",
       "PID_var         3\n",
       "PID_std         3\n",
       "PPID_mean       3\n",
       "PPID_var        3\n",
       "PPID_std        3\n",
       "Threads_mean    3\n",
       "Threads_var     3\n",
       "Threads_std     3\n",
       "Handles_mean    3\n",
       "Handles_var     3\n",
       "Handles_std     3\n",
       "Session_mean    3\n",
       "Session_var     3\n",
       "Session_std     3\n",
       "Status_mean     3\n",
       "Status_var      3\n",
       "Status_std      3\n",
       "Label           0\n",
       "dtype: int64"
      ]
     },
     "execution_count": 8,
     "metadata": {},
     "output_type": "execute_result"
    }
   ],
   "source": [
    "data.isnull().sum()"
   ]
  },
  {
   "cell_type": "markdown",
   "metadata": {
    "id": "cv4i0xDYsZ2t"
   },
   "source": [
    "There are three empty values for every column. Let's check if there are three empty rows."
   ]
  },
  {
   "cell_type": "code",
   "execution_count": 9,
   "metadata": {
    "colab": {
     "base_uri": "https://localhost:8080/",
     "height": 142
    },
    "id": "CXo673M3sZ2t",
    "outputId": "88e4bab6-7de6-4351-fa32-c6ad6ec310f1"
   },
   "outputs": [
    {
     "data": {
      "text/html": [
       "<div>\n",
       "<style scoped>\n",
       "    .dataframe tbody tr th:only-of-type {\n",
       "        vertical-align: middle;\n",
       "    }\n",
       "\n",
       "    .dataframe tbody tr th {\n",
       "        vertical-align: top;\n",
       "    }\n",
       "\n",
       "    .dataframe thead th {\n",
       "        text-align: right;\n",
       "    }\n",
       "</style>\n",
       "<table border=\"1\" class=\"dataframe\">\n",
       "  <thead>\n",
       "    <tr style=\"text-align: right;\">\n",
       "      <th></th>\n",
       "      <th>PID_mean</th>\n",
       "      <th>PID_var</th>\n",
       "      <th>PID_std</th>\n",
       "      <th>PPID_mean</th>\n",
       "      <th>PPID_var</th>\n",
       "      <th>PPID_std</th>\n",
       "      <th>Threads_mean</th>\n",
       "      <th>Threads_var</th>\n",
       "      <th>Threads_std</th>\n",
       "      <th>Handles_mean</th>\n",
       "      <th>Handles_var</th>\n",
       "      <th>Handles_std</th>\n",
       "      <th>Session_mean</th>\n",
       "      <th>Session_var</th>\n",
       "      <th>Session_std</th>\n",
       "      <th>Status_mean</th>\n",
       "      <th>Status_var</th>\n",
       "      <th>Status_std</th>\n",
       "      <th>Label</th>\n",
       "    </tr>\n",
       "  </thead>\n",
       "  <tbody>\n",
       "    <tr>\n",
       "      <th>26</th>\n",
       "      <td>NaN</td>\n",
       "      <td>NaN</td>\n",
       "      <td>NaN</td>\n",
       "      <td>NaN</td>\n",
       "      <td>NaN</td>\n",
       "      <td>NaN</td>\n",
       "      <td>NaN</td>\n",
       "      <td>NaN</td>\n",
       "      <td>NaN</td>\n",
       "      <td>NaN</td>\n",
       "      <td>NaN</td>\n",
       "      <td>NaN</td>\n",
       "      <td>NaN</td>\n",
       "      <td>NaN</td>\n",
       "      <td>NaN</td>\n",
       "      <td>NaN</td>\n",
       "      <td>NaN</td>\n",
       "      <td>NaN</td>\n",
       "      <td>0</td>\n",
       "    </tr>\n",
       "    <tr>\n",
       "      <th>345</th>\n",
       "      <td>NaN</td>\n",
       "      <td>NaN</td>\n",
       "      <td>NaN</td>\n",
       "      <td>NaN</td>\n",
       "      <td>NaN</td>\n",
       "      <td>NaN</td>\n",
       "      <td>NaN</td>\n",
       "      <td>NaN</td>\n",
       "      <td>NaN</td>\n",
       "      <td>NaN</td>\n",
       "      <td>NaN</td>\n",
       "      <td>NaN</td>\n",
       "      <td>NaN</td>\n",
       "      <td>NaN</td>\n",
       "      <td>NaN</td>\n",
       "      <td>NaN</td>\n",
       "      <td>NaN</td>\n",
       "      <td>NaN</td>\n",
       "      <td>1</td>\n",
       "    </tr>\n",
       "    <tr>\n",
       "      <th>357</th>\n",
       "      <td>NaN</td>\n",
       "      <td>NaN</td>\n",
       "      <td>NaN</td>\n",
       "      <td>NaN</td>\n",
       "      <td>NaN</td>\n",
       "      <td>NaN</td>\n",
       "      <td>NaN</td>\n",
       "      <td>NaN</td>\n",
       "      <td>NaN</td>\n",
       "      <td>NaN</td>\n",
       "      <td>NaN</td>\n",
       "      <td>NaN</td>\n",
       "      <td>NaN</td>\n",
       "      <td>NaN</td>\n",
       "      <td>NaN</td>\n",
       "      <td>NaN</td>\n",
       "      <td>NaN</td>\n",
       "      <td>NaN</td>\n",
       "      <td>1</td>\n",
       "    </tr>\n",
       "  </tbody>\n",
       "</table>\n",
       "</div>"
      ],
      "text/plain": [
       "    PID_mean PID_var PID_std PPID_mean PPID_var PPID_std Threads_mean  \\\n",
       "26       NaN     NaN     NaN       NaN      NaN      NaN          NaN   \n",
       "345      NaN     NaN     NaN       NaN      NaN      NaN          NaN   \n",
       "357      NaN     NaN     NaN       NaN      NaN      NaN          NaN   \n",
       "\n",
       "    Threads_var Threads_std Handles_mean Handles_var Handles_std Session_mean  \\\n",
       "26          NaN         NaN          NaN         NaN         NaN          NaN   \n",
       "345         NaN         NaN          NaN         NaN         NaN          NaN   \n",
       "357         NaN         NaN          NaN         NaN         NaN          NaN   \n",
       "\n",
       "    Session_var Session_std Status_mean Status_var Status_std Label  \n",
       "26          NaN         NaN         NaN        NaN        NaN     0  \n",
       "345         NaN         NaN         NaN        NaN        NaN     1  \n",
       "357         NaN         NaN         NaN        NaN        NaN     1  "
      ]
     },
     "execution_count": 9,
     "metadata": {},
     "output_type": "execute_result"
    }
   ],
   "source": [
    "missing_values = data.isnull().sum(axis=1) > 0\n",
    "data[missing_values]"
   ]
  },
  {
   "cell_type": "markdown",
   "metadata": {
    "id": "MPdUD6-asZ2u"
   },
   "source": [
    "Due to the fact that the rows are completely empty, they are useless to us and it wouldn't make sense to impute those rows. <br> Therefore, they will be dropped."
   ]
  },
  {
   "cell_type": "code",
   "execution_count": 10,
   "metadata": {
    "colab": {
     "base_uri": "https://localhost:8080/"
    },
    "id": "Y5GTKNhksZ2u",
    "outputId": "0808740f-61ed-4519-8248-cb9afa5e4761"
   },
   "outputs": [
    {
     "data": {
      "text/plain": [
       "PID_mean        False\n",
       "PID_var         False\n",
       "PID_std         False\n",
       "PPID_mean       False\n",
       "PPID_var        False\n",
       "PPID_std        False\n",
       "Threads_mean    False\n",
       "Threads_var     False\n",
       "Threads_std     False\n",
       "Handles_mean    False\n",
       "Handles_var     False\n",
       "Handles_std     False\n",
       "Session_mean    False\n",
       "Session_var     False\n",
       "Session_std     False\n",
       "Status_mean     False\n",
       "Status_var      False\n",
       "Status_std      False\n",
       "Label           False\n",
       "dtype: bool"
      ]
     },
     "execution_count": 10,
     "metadata": {},
     "output_type": "execute_result"
    }
   ],
   "source": [
    "data = data.drop([26, 345, 357])\n",
    "\n",
    "data.isnull().any()"
   ]
  },
  {
   "cell_type": "markdown",
   "metadata": {
    "id": "R3j-eqTrsZ2u"
   },
   "source": [
    "Let's really make sure that there are no null values."
   ]
  },
  {
   "cell_type": "code",
   "execution_count": 11,
   "metadata": {
    "colab": {
     "base_uri": "https://localhost:8080/"
    },
    "id": "l4WuKJXJsZ2u",
    "outputId": "6633c750-d077-4437-b061-436621116b57"
   },
   "outputs": [
    {
     "name": "stdout",
     "output_type": "stream",
     "text": [
      "Number of empty strings in column PID_mean : 0\n",
      "Number of only space strings in column PID_mean : 0\n",
      "Number of empty strings in column PID_var : 0\n",
      "Number of only space strings in column PID_var : 0\n",
      "Number of empty strings in column PID_std : 0\n",
      "Number of only space strings in column PID_std : 0\n",
      "Number of empty strings in column PPID_mean : 0\n",
      "Number of only space strings in column PPID_mean : 0\n",
      "Number of empty strings in column PPID_var : 0\n",
      "Number of only space strings in column PPID_var : 0\n",
      "Number of empty strings in column PPID_std : 0\n",
      "Number of only space strings in column PPID_std : 0\n",
      "Number of empty strings in column Threads_mean : 0\n",
      "Number of only space strings in column Threads_mean : 0\n",
      "Number of empty strings in column Threads_var : 0\n",
      "Number of only space strings in column Threads_var : 0\n",
      "Number of empty strings in column Threads_std : 0\n",
      "Number of only space strings in column Threads_std : 0\n",
      "Number of empty strings in column Handles_mean : 0\n",
      "Number of only space strings in column Handles_mean : 0\n",
      "Number of empty strings in column Handles_var : 0\n",
      "Number of only space strings in column Handles_var : 0\n",
      "Number of empty strings in column Handles_std : 0\n",
      "Number of only space strings in column Handles_std : 0\n",
      "Number of empty strings in column Session_mean : 0\n",
      "Number of only space strings in column Session_mean : 0\n",
      "Number of empty strings in column Session_var : 0\n",
      "Number of only space strings in column Session_var : 0\n",
      "Number of empty strings in column Session_std : 0\n",
      "Number of only space strings in column Session_std : 0\n",
      "Number of empty strings in column Status_mean : 0\n",
      "Number of only space strings in column Status_mean : 0\n",
      "Number of empty strings in column Status_var : 0\n",
      "Number of only space strings in column Status_var : 0\n",
      "Number of empty strings in column Status_std : 0\n",
      "Number of only space strings in column Status_std : 0\n",
      "Number of empty strings in column Label : 0\n",
      "Number of only space strings in column Label : 0\n"
     ]
    }
   ],
   "source": [
    "for col in data.columns:\n",
    "    print(f\"Number of empty strings in column {col} : {data[col].isin(['']).sum(axis=0)}\")\n",
    "    print(f\"Number of only space strings in column {col} : {data[col].isin([' ']).sum(axis=0)}\")"
   ]
  },
  {
   "cell_type": "markdown",
   "metadata": {
    "id": "b1rMH5sNdIdX"
   },
   "source": [
    "Good. There are no null values. Let's proceed to the next step."
   ]
  },
  {
   "cell_type": "markdown",
   "metadata": {
    "id": "hJqP50MBsZ2u"
   },
   "source": [
    "## Data Integration"
   ]
  },
  {
   "cell_type": "markdown",
   "metadata": {
    "id": "DkzzLjYKsZ2v"
   },
   "source": [
    "Data Integration is used when we have to combine data from multiple sources. Since we only have one source, this step will be skipped."
   ]
  },
  {
   "cell_type": "markdown",
   "metadata": {
    "id": "kdBhzr98sZ2v"
   },
   "source": [
    "## Data Transformation"
   ]
  },
  {
   "cell_type": "markdown",
   "metadata": {
    "id": "_lVghgIKsZ2v"
   },
   "source": [
    "Data Transformation is one of the most significant steps which will affect the accuracy rate when detecting anomalies."
   ]
  },
  {
   "cell_type": "code",
   "execution_count": 12,
   "metadata": {
    "colab": {
     "base_uri": "https://localhost:8080/"
    },
    "id": "AmTwxOM9sZ2v",
    "outputId": "60b8df34-05c9-4064-c9ce-6cf183d7e2e5"
   },
   "outputs": [
    {
     "name": "stdout",
     "output_type": "stream",
     "text": [
      "<class 'pandas.core.frame.DataFrame'>\n",
      "Int64Index: 764 entries, 1 to 767\n",
      "Data columns (total 19 columns):\n",
      " #   Column        Non-Null Count  Dtype  \n",
      "---  ------        --------------  -----  \n",
      " 0   PID_mean      764 non-null    float64\n",
      " 1   PID_var       764 non-null    float64\n",
      " 2   PID_std       764 non-null    float64\n",
      " 3   PPID_mean     764 non-null    float64\n",
      " 4   PPID_var      764 non-null    float64\n",
      " 5   PPID_std      764 non-null    float64\n",
      " 6   Threads_mean  764 non-null    float64\n",
      " 7   Threads_var   764 non-null    float64\n",
      " 8   Threads_std   764 non-null    float64\n",
      " 9   Handles_mean  764 non-null    float64\n",
      " 10  Handles_var   764 non-null    float64\n",
      " 11  Handles_std   764 non-null    float64\n",
      " 12  Session_mean  764 non-null    float64\n",
      " 13  Session_var   764 non-null    float64\n",
      " 14  Session_std   764 non-null    float64\n",
      " 15  Status_mean   764 non-null    float64\n",
      " 16  Status_var    764 non-null    float64\n",
      " 17  Status_std    764 non-null    float64\n",
      " 18  Label         764 non-null    int64  \n",
      "dtypes: float64(18), int64(1)\n",
      "memory usage: 119.4 KB\n"
     ]
    }
   ],
   "source": [
    "data = data.apply(pd.to_numeric, errors='coerce')\n",
    "\n",
    "data.info()"
   ]
  },
  {
   "cell_type": "code",
   "execution_count": 13,
   "metadata": {
    "colab": {
     "base_uri": "https://localhost:8080/",
     "height": 1000
    },
    "id": "2Qz-6kZPsZ2v",
    "outputId": "ec4df3b3-95a9-426f-b9d2-0051458644e9"
   },
   "outputs": [
    {
     "data": {
      "text/plain": [
       "array([[<AxesSubplot:title={'center':'PID_mean'}>,\n",
       "        <AxesSubplot:title={'center':'PID_var'}>,\n",
       "        <AxesSubplot:title={'center':'PID_std'}>,\n",
       "        <AxesSubplot:title={'center':'PPID_mean'}>],\n",
       "       [<AxesSubplot:title={'center':'PPID_var'}>,\n",
       "        <AxesSubplot:title={'center':'PPID_std'}>,\n",
       "        <AxesSubplot:title={'center':'Threads_mean'}>,\n",
       "        <AxesSubplot:title={'center':'Threads_var'}>],\n",
       "       [<AxesSubplot:title={'center':'Threads_std'}>,\n",
       "        <AxesSubplot:title={'center':'Handles_mean'}>,\n",
       "        <AxesSubplot:title={'center':'Handles_var'}>,\n",
       "        <AxesSubplot:title={'center':'Handles_std'}>],\n",
       "       [<AxesSubplot:title={'center':'Session_mean'}>,\n",
       "        <AxesSubplot:title={'center':'Session_var'}>,\n",
       "        <AxesSubplot:title={'center':'Session_std'}>,\n",
       "        <AxesSubplot:title={'center':'Status_mean'}>],\n",
       "       [<AxesSubplot:title={'center':'Status_var'}>,\n",
       "        <AxesSubplot:title={'center':'Status_std'}>,\n",
       "        <AxesSubplot:title={'center':'Label'}>, <AxesSubplot:>]],\n",
       "      dtype=object)"
      ]
     },
     "execution_count": 13,
     "metadata": {},
     "output_type": "execute_result"
    },
    {
     "data": {
      "image/png": "[encoded data removed]",
      "text/plain": [
       "<Figure size 1440x1440 with 20 Axes>"
      ]
     },
     "metadata": {
      "needs_background": "light"
     },
     "output_type": "display_data"
    }
   ],
   "source": [
    "data.hist(figsize=(20, 20))"
   ]
  },
  {
   "cell_type": "markdown",
   "metadata": {
    "id": "OJua0zvHsZ2v"
   },
   "source": [
    "To achieve better accuracy, we will discretize the dataset. This means that we will put the data values into a certain number of bins. For this dataset, 6 bins were chosen."
   ]
  },
  {
   "cell_type": "code",
   "execution_count": 14,
   "metadata": {
    "colab": {
     "base_uri": "https://localhost:8080/",
     "height": 1000
    },
    "id": "NdWx0vXPsZ2w",
    "outputId": "cdc60023-a8ff-4de1-8d61-e4c29c24bcd0"
   },
   "outputs": [
    {
     "data": {
      "text/plain": [
       "array([[<AxesSubplot:title={'center':'PID_mean'}>,\n",
       "        <AxesSubplot:title={'center':'PID_var'}>,\n",
       "        <AxesSubplot:title={'center':'PID_std'}>,\n",
       "        <AxesSubplot:title={'center':'PPID_mean'}>],\n",
       "       [<AxesSubplot:title={'center':'PPID_var'}>,\n",
       "        <AxesSubplot:title={'center':'PPID_std'}>,\n",
       "        <AxesSubplot:title={'center':'Threads_mean'}>,\n",
       "        <AxesSubplot:title={'center':'Threads_var'}>],\n",
       "       [<AxesSubplot:title={'center':'Threads_std'}>,\n",
       "        <AxesSubplot:title={'center':'Handles_mean'}>,\n",
       "        <AxesSubplot:title={'center':'Handles_var'}>,\n",
       "        <AxesSubplot:title={'center':'Handles_std'}>],\n",
       "       [<AxesSubplot:title={'center':'Session_mean'}>,\n",
       "        <AxesSubplot:title={'center':'Session_var'}>,\n",
       "        <AxesSubplot:title={'center':'Session_std'}>,\n",
       "        <AxesSubplot:title={'center':'Status_mean'}>],\n",
       "       [<AxesSubplot:title={'center':'Status_var'}>,\n",
       "        <AxesSubplot:title={'center':'Status_std'}>,\n",
       "        <AxesSubplot:title={'center':'Label'}>, <AxesSubplot:>]],\n",
       "      dtype=object)"
      ]
     },
     "execution_count": 14,
     "metadata": {},
     "output_type": "execute_result"
    },
    {
     "data": {
      "image/png": "[encoded data removed]",
      "text/plain": [
       "<Figure size 1440x1440 with 20 Axes>"
      ]
     },
     "metadata": {
      "needs_background": "light"
     },
     "output_type": "display_data"
    }
   ],
   "source": [
    "from sklearn.preprocessing import KBinsDiscretizer\n",
    "\n",
    "data_values = data.iloc[:, :-1]\n",
    "\n",
    "trans = KBinsDiscretizer(n_bins=6, encode='ordinal', strategy='uniform')\n",
    "data_values = trans.fit_transform(data_values)\n",
    "\n",
    "data_values = pd.DataFrame(data_values)\n",
    "\n",
    "label_data = data.iloc[:, -1:]\n",
    "\n",
    "new_data = data_values\n",
    "\n",
    "columns = ['PID_mean', 'PID_var', 'PID_std',\n",
    "           'PPID_mean', 'PPID_var', 'PPID_std',\n",
    "           'Threads_mean', 'Threads_var', 'Threads_std',\n",
    "           'Handles_mean', 'Handles_var', 'Handles_std',\n",
    "           'Session_mean', 'Session_var', 'Session_std',\n",
    "           'Status_mean', 'Status_var', 'Status_std']\n",
    "\n",
    "new_data.columns = columns\n",
    "\n",
    "new_data = new_data.join(label_data)\n",
    "\n",
    "new_data = new_data.replace(np.nan, 0.0)\n",
    "\n",
    "new_data.hist(figsize=(20, 20))"
   ]
  },
  {
   "cell_type": "code",
   "execution_count": 15,
   "metadata": {
    "colab": {
     "base_uri": "https://localhost:8080/",
     "height": 204
    },
    "id": "aoQDlsDZsZ2w",
    "outputId": "07146d80-872a-4f53-fcfe-dc110a2c2bb0"
   },
   "outputs": [
    {
     "data": {
      "text/html": [
       "<div>\n",
       "<style scoped>\n",
       "    .dataframe tbody tr th:only-of-type {\n",
       "        vertical-align: middle;\n",
       "    }\n",
       "\n",
       "    .dataframe tbody tr th {\n",
       "        vertical-align: top;\n",
       "    }\n",
       "\n",
       "    .dataframe thead th {\n",
       "        text-align: right;\n",
       "    }\n",
       "</style>\n",
       "<table border=\"1\" class=\"dataframe\">\n",
       "  <thead>\n",
       "    <tr style=\"text-align: right;\">\n",
       "      <th></th>\n",
       "      <th>PID_mean</th>\n",
       "      <th>PID_var</th>\n",
       "      <th>PID_std</th>\n",
       "      <th>PPID_mean</th>\n",
       "      <th>PPID_var</th>\n",
       "      <th>PPID_std</th>\n",
       "      <th>Threads_mean</th>\n",
       "      <th>Threads_var</th>\n",
       "      <th>Threads_std</th>\n",
       "      <th>Handles_mean</th>\n",
       "      <th>Handles_var</th>\n",
       "      <th>Handles_std</th>\n",
       "      <th>Session_mean</th>\n",
       "      <th>Session_var</th>\n",
       "      <th>Session_std</th>\n",
       "      <th>Status_mean</th>\n",
       "      <th>Status_var</th>\n",
       "      <th>Status_std</th>\n",
       "      <th>Label</th>\n",
       "    </tr>\n",
       "  </thead>\n",
       "  <tbody>\n",
       "    <tr>\n",
       "      <th>0</th>\n",
       "      <td>0.0</td>\n",
       "      <td>1.0</td>\n",
       "      <td>1.0</td>\n",
       "      <td>0.0</td>\n",
       "      <td>2.0</td>\n",
       "      <td>3.0</td>\n",
       "      <td>5.0</td>\n",
       "      <td>2.0</td>\n",
       "      <td>3.0</td>\n",
       "      <td>3.0</td>\n",
       "      <td>0.0</td>\n",
       "      <td>0.0</td>\n",
       "      <td>0.0</td>\n",
       "      <td>4.0</td>\n",
       "      <td>4.0</td>\n",
       "      <td>5.0</td>\n",
       "      <td>0.0</td>\n",
       "      <td>0.0</td>\n",
       "      <td>0.0</td>\n",
       "    </tr>\n",
       "    <tr>\n",
       "      <th>1</th>\n",
       "      <td>0.0</td>\n",
       "      <td>1.0</td>\n",
       "      <td>1.0</td>\n",
       "      <td>0.0</td>\n",
       "      <td>2.0</td>\n",
       "      <td>3.0</td>\n",
       "      <td>5.0</td>\n",
       "      <td>2.0</td>\n",
       "      <td>3.0</td>\n",
       "      <td>3.0</td>\n",
       "      <td>0.0</td>\n",
       "      <td>0.0</td>\n",
       "      <td>0.0</td>\n",
       "      <td>4.0</td>\n",
       "      <td>4.0</td>\n",
       "      <td>5.0</td>\n",
       "      <td>0.0</td>\n",
       "      <td>0.0</td>\n",
       "      <td>0.0</td>\n",
       "    </tr>\n",
       "    <tr>\n",
       "      <th>2</th>\n",
       "      <td>0.0</td>\n",
       "      <td>1.0</td>\n",
       "      <td>1.0</td>\n",
       "      <td>0.0</td>\n",
       "      <td>2.0</td>\n",
       "      <td>3.0</td>\n",
       "      <td>5.0</td>\n",
       "      <td>2.0</td>\n",
       "      <td>3.0</td>\n",
       "      <td>3.0</td>\n",
       "      <td>0.0</td>\n",
       "      <td>0.0</td>\n",
       "      <td>0.0</td>\n",
       "      <td>4.0</td>\n",
       "      <td>4.0</td>\n",
       "      <td>5.0</td>\n",
       "      <td>0.0</td>\n",
       "      <td>0.0</td>\n",
       "      <td>0.0</td>\n",
       "    </tr>\n",
       "    <tr>\n",
       "      <th>3</th>\n",
       "      <td>0.0</td>\n",
       "      <td>1.0</td>\n",
       "      <td>1.0</td>\n",
       "      <td>0.0</td>\n",
       "      <td>2.0</td>\n",
       "      <td>3.0</td>\n",
       "      <td>5.0</td>\n",
       "      <td>2.0</td>\n",
       "      <td>3.0</td>\n",
       "      <td>3.0</td>\n",
       "      <td>0.0</td>\n",
       "      <td>0.0</td>\n",
       "      <td>0.0</td>\n",
       "      <td>4.0</td>\n",
       "      <td>4.0</td>\n",
       "      <td>5.0</td>\n",
       "      <td>0.0</td>\n",
       "      <td>0.0</td>\n",
       "      <td>0.0</td>\n",
       "    </tr>\n",
       "    <tr>\n",
       "      <th>4</th>\n",
       "      <td>0.0</td>\n",
       "      <td>1.0</td>\n",
       "      <td>1.0</td>\n",
       "      <td>0.0</td>\n",
       "      <td>2.0</td>\n",
       "      <td>3.0</td>\n",
       "      <td>5.0</td>\n",
       "      <td>3.0</td>\n",
       "      <td>4.0</td>\n",
       "      <td>3.0</td>\n",
       "      <td>0.0</td>\n",
       "      <td>0.0</td>\n",
       "      <td>0.0</td>\n",
       "      <td>4.0</td>\n",
       "      <td>4.0</td>\n",
       "      <td>5.0</td>\n",
       "      <td>0.0</td>\n",
       "      <td>0.0</td>\n",
       "      <td>0.0</td>\n",
       "    </tr>\n",
       "  </tbody>\n",
       "</table>\n",
       "</div>"
      ],
      "text/plain": [
       "   PID_mean  PID_var  PID_std  PPID_mean  PPID_var  PPID_std  Threads_mean  \\\n",
       "0       0.0      1.0      1.0        0.0       2.0       3.0           5.0   \n",
       "1       0.0      1.0      1.0        0.0       2.0       3.0           5.0   \n",
       "2       0.0      1.0      1.0        0.0       2.0       3.0           5.0   \n",
       "3       0.0      1.0      1.0        0.0       2.0       3.0           5.0   \n",
       "4       0.0      1.0      1.0        0.0       2.0       3.0           5.0   \n",
       "\n",
       "   Threads_var  Threads_std  Handles_mean  Handles_var  Handles_std  \\\n",
       "0          2.0          3.0           3.0          0.0          0.0   \n",
       "1          2.0          3.0           3.0          0.0          0.0   \n",
       "2          2.0          3.0           3.0          0.0          0.0   \n",
       "3          2.0          3.0           3.0          0.0          0.0   \n",
       "4          3.0          4.0           3.0          0.0          0.0   \n",
       "\n",
       "   Session_mean  Session_var  Session_std  Status_mean  Status_var  \\\n",
       "0           0.0          4.0          4.0          5.0         0.0   \n",
       "1           0.0          4.0          4.0          5.0         0.0   \n",
       "2           0.0          4.0          4.0          5.0         0.0   \n",
       "3           0.0          4.0          4.0          5.0         0.0   \n",
       "4           0.0          4.0          4.0          5.0         0.0   \n",
       "\n",
       "   Status_std  Label  \n",
       "0         0.0    0.0  \n",
       "1         0.0    0.0  \n",
       "2         0.0    0.0  \n",
       "3         0.0    0.0  \n",
       "4         0.0    0.0  "
      ]
     },
     "execution_count": 15,
     "metadata": {},
     "output_type": "execute_result"
    }
   ],
   "source": [
    "new_data.head()"
   ]
  },
  {
   "cell_type": "markdown",
   "metadata": {
    "id": "aAcWUNOWsZ2w"
   },
   "source": [
    "## Modelling (Without Feature Selection)"
   ]
  },
  {
   "cell_type": "markdown",
   "metadata": {
    "id": "0JfSR5oXsZ2w"
   },
   "source": [
    "For the next part, we will do three things:<br>\n",
    "1. We will create a method that prints some of the model's performance metrics.<br>\n",
    "2. We will use automatic hyperparameter tuning for the models.\n",
    "3. We will create two models without conducting feature selection. For this task, we will use two classifiers; a decision tree classifier, and a naive bayes classifier.<br><br>\n",
    "\n",
    "This part will help us determine if the performance of the model improves after utilizing feature selection."
   ]
  },
  {
   "cell_type": "code",
   "execution_count": 16,
   "metadata": {
    "id": "HXvfkCB4sZ2w"
   },
   "outputs": [],
   "source": [
    "from sklearn.metrics import accuracy_score, confusion_matrix, classification_report\n",
    "\n",
    "def print_scores(clf, X_train, X_test, y_train, y_test, train=True):\n",
    "    if train:\n",
    "        pred = clf.predict(X_train)\n",
    "        clf_report = pd.DataFrame(classification_report(y_train, pred, output_dict=True))\n",
    "        print('Training Results:')\n",
    "        print('=================================================')\n",
    "        print(f\"Accuracy Score: {accuracy_score(y_train, pred) * 100:.7f}%\")\n",
    "        print('=================================================')\n",
    "        print(f\"Classification Report: \\n{clf_report}\")\n",
    "        print('=================================================')\n",
    "        print(f\"Confusion Matrix: \\n{confusion_matrix(y_train, pred)}\")\n",
    "    else:\n",
    "        pred = clf.predict(X_test)\n",
    "        clf_report = pd.DataFrame(classification_report(y_test, pred, output_dict=True))\n",
    "        print('Test Results:')\n",
    "        print('=================================================')\n",
    "        print(f\"Accuracy Score: {accuracy_score(y_test, pred) * 100:.7f}%\")\n",
    "        print('=================================================')\n",
    "        print(f\"Classification Report: \\n{clf_report}\")\n",
    "        print('=================================================')\n",
    "        print(f\"Confusion Matrix: \\n{confusion_matrix(y_test, pred)}\")"
   ]
  },
  {
   "cell_type": "markdown",
   "metadata": {
    "id": "ouwddExLsZ2x"
   },
   "source": [
    "Great. First, we will split the dataset into a training and testing dataset."
   ]
  },
  {
   "cell_type": "code",
   "execution_count": 17,
   "metadata": {
    "id": "JhsxShknsZ2x"
   },
   "outputs": [],
   "source": [
    "from sklearn.model_selection import train_test_split\n",
    "\n",
    "X = new_data.drop('Label', axis=1)\n",
    "y = new_data['Label']\n",
    "\n",
    "X_train, X_test, y_train, y_test = train_test_split(X, y, test_size=0.3, random_state=42)"
   ]
  },
  {
   "cell_type": "markdown",
   "metadata": {
    "id": "1BYL_KEusZ2x"
   },
   "source": [
    "Next, we will use the Decision Tree Classifier to fit the dataset while also employing automatic hyperparameter tuning."
   ]
  },
  {
   "cell_type": "code",
   "execution_count": 18,
   "metadata": {},
   "outputs": [
    {
     "name": "stdout",
     "output_type": "stream",
     "text": [
      "Tree Score: 0.69 (+/- 0.03)\n",
      "Bayes Score: 0.14 (+/- 0.10)\n"
     ]
    }
   ],
   "source": [
    "from sklearn.model_selection import cross_val_score\n",
    "from sklearn.model_selection import StratifiedKFold\n",
    "from sklearn.tree import DecisionTreeClassifier\n",
    "from sklearn.naive_bayes import GaussianNB\n",
    "\n",
    "clf = DecisionTreeClassifier(random_state=42)\n",
    "skf = StratifiedKFold(n_splits=3)\n",
    "\n",
    "scores = cross_val_score(clf, X_train, y_train, cv=skf, scoring='f1')\n",
    "print(\"Tree Score: %0.2f (+/- %0.2f)\" % (scores.mean(), scores.std() * 2))\n",
    "\n",
    "clf = GaussianNB()\n",
    "\n",
    "scores = cross_val_score(clf, X_train, y_train, cv=skf, scoring='f1')\n",
    "print(\"Bayes Score: %0.2f (+/- %0.2f)\" % (scores.mean(), scores.std() * 2))"
   ]
  },
  {
   "cell_type": "code",
   "execution_count": 19,
   "metadata": {
    "colab": {
     "base_uri": "https://localhost:8080/"
    },
    "id": "1UiIYsZNsZ2x",
    "outputId": "8461d0cc-34da-4c1c-e98f-c440b4db5bd8"
   },
   "outputs": [
    {
     "name": "stdout",
     "output_type": "stream",
     "text": [
      "Fitting 3 folds for each of 4332 candidates, totalling 12996 fits\n"
     ]
    },
    {
     "name": "stderr",
     "output_type": "stream",
     "text": [
      "[Parallel(n_jobs=-1)]: Using backend LokyBackend with 6 concurrent workers.\n",
      "[Parallel(n_jobs=-1)]: Done  40 tasks      | elapsed:    1.0s\n",
      "[Parallel(n_jobs=-1)]: Done 6668 tasks      | elapsed:    6.6s\n",
      "[Parallel(n_jobs=-1)]: Done 12996 out of 12996 | elapsed:   11.9s finished\n"
     ]
    },
    {
     "data": {
      "text/plain": [
       "DecisionTreeClassifier(criterion='entropy', max_depth=3, min_samples_leaf=8,\n",
       "                       splitter='random')"
      ]
     },
     "execution_count": 19,
     "metadata": {},
     "output_type": "execute_result"
    }
   ],
   "source": [
    "#from sklearn.tree import DecisionTreeClassifier\n",
    "from sklearn.model_selection import GridSearchCV\n",
    "\n",
    "tree_params = {\n",
    "    \"criterion\":(\"gini\", \"entropy\"), \n",
    "    \"splitter\":(\"best\", \"random\"), \n",
    "    \"max_depth\":(list(range(1, 20))), \n",
    "    \"min_samples_split\":[2, 3, 4], \n",
    "    \"min_samples_leaf\":list(range(1, 20)),\n",
    "}\n",
    "\n",
    "bayes_params = {\n",
    "    \"var_smoothing\": np.logspace(0, -15, 100)\n",
    "}\n",
    "\n",
    "dtc = DecisionTreeClassifier(random_state=42)\n",
    "\n",
    "# 3-fold cross-validation\n",
    "tree_cv = GridSearchCV(dtc, tree_params, scoring='recall', n_jobs=-1, verbose=1, cv=3)\n",
    "tree_cv.fit(X_train, y_train)\n",
    "tree_best_params = tree_cv.best_params_\n",
    "\n",
    "dtc = DecisionTreeClassifier(**tree_best_params)\n",
    "dtc.fit(X_train, y_train)"
   ]
  },
  {
   "cell_type": "markdown",
   "metadata": {
    "id": "aFXIbGVvRJW4"
   },
   "source": [
    "Next, we will use the Naive Bayes Classifier to fit the dataset while also employing automatic hyperparameter tuning."
   ]
  },
  {
   "cell_type": "code",
   "execution_count": 20,
   "metadata": {
    "colab": {
     "base_uri": "https://localhost:8080/"
    },
    "id": "BTG6VcHURIzh",
    "outputId": "cb948660-8fc7-4fe7-dcc3-6f571f0f5d20"
   },
   "outputs": [
    {
     "name": "stderr",
     "output_type": "stream",
     "text": [
      "[Parallel(n_jobs=-1)]: Using backend LokyBackend with 6 concurrent workers.\n",
      "[Parallel(n_jobs=-1)]: Done 100 tasks      | elapsed:    0.1s\n"
     ]
    },
    {
     "name": "stdout",
     "output_type": "stream",
     "text": [
      "Fitting 3 folds for each of 100 candidates, totalling 300 fits\n"
     ]
    },
    {
     "name": "stderr",
     "output_type": "stream",
     "text": [
      "[Parallel(n_jobs=-1)]: Done 300 out of 300 | elapsed:    0.3s finished\n"
     ]
    },
    {
     "data": {
      "text/plain": [
       "GaussianNB(var_smoothing=0.01519911082952933)"
      ]
     },
     "execution_count": 20,
     "metadata": {},
     "output_type": "execute_result"
    }
   ],
   "source": [
    "#from sklearn.naive_bayes import GaussianNB\n",
    "\n",
    "nbc = GaussianNB()\n",
    "\n",
    "# 3-fold cross-validation\n",
    "bayes_cv = GridSearchCV(nbc, bayes_params, scoring='recall', n_jobs=-1, verbose=1, cv=3)\n",
    "bayes_cv.fit(X_train, y_train)\n",
    "bayes_best_params = bayes_cv.best_params_\n",
    "\n",
    "nbc = GaussianNB(**bayes_best_params)\n",
    "nbc.fit(X_train, y_train)"
   ]
  },
  {
   "cell_type": "markdown",
   "metadata": {
    "id": "WCp5AxnbsZ2y"
   },
   "source": [
    "Now, we will use our method to print the model's performance metrics."
   ]
  },
  {
   "cell_type": "code",
   "execution_count": 21,
   "metadata": {
    "colab": {
     "base_uri": "https://localhost:8080/"
    },
    "id": "-6Eli2RTsZ2y",
    "outputId": "42df42ce-1400-45dc-8b76-fc8ac932babf"
   },
   "outputs": [
    {
     "name": "stdout",
     "output_type": "stream",
     "text": [
      "Decision Tree Scores:\n",
      "\n",
      "Training Results:\n",
      "=================================================\n",
      "Accuracy Score: 63.4831461%\n",
      "=================================================\n",
      "Classification Report: \n",
      "                  0.0         1.0  accuracy   macro avg  weighted avg\n",
      "precision    0.672897    0.625293  0.634831    0.649095      0.645975\n",
      "recall       0.310345    0.884106  0.634831    0.597225      0.634831\n",
      "f1-score     0.424779    0.732510  0.634831    0.578645      0.598814\n",
      "support    232.000000  302.000000  0.634831  534.000000    534.000000\n",
      "=================================================\n",
      "Confusion Matrix: \n",
      "[[ 72 160]\n",
      " [ 35 267]]\n",
      "\n",
      "Test Results:\n",
      "=================================================\n",
      "Accuracy Score: 62.1739130%\n",
      "=================================================\n",
      "Classification Report: \n",
      "                  0.0         1.0  accuracy   macro avg  weighted avg\n",
      "precision    0.666667    0.610811  0.621739    0.638739      0.635582\n",
      "recall       0.294118    0.882812  0.621739    0.588465      0.621739\n",
      "f1-score     0.408163    0.722045  0.621739    0.565104      0.582845\n",
      "support    102.000000  128.000000  0.621739  230.000000    230.000000\n",
      "=================================================\n",
      "Confusion Matrix: \n",
      "[[ 30  72]\n",
      " [ 15 113]]\n",
      "\n",
      "==========================================\n",
      "\n",
      "Naive Bayes Scores:\n",
      "\n",
      "Training Results:\n",
      "=================================================\n",
      "Accuracy Score: 50.0000000%\n",
      "=================================================\n",
      "Classification Report: \n",
      "                  0.0         1.0  accuracy   macro avg  weighted avg\n",
      "precision    0.463158    0.796610       0.5    0.629884      0.651740\n",
      "recall       0.948276    0.155629       0.5    0.551953      0.500000\n",
      "f1-score     0.622348    0.260388       0.5    0.441368      0.417644\n",
      "support    232.000000  302.000000       0.5  534.000000    534.000000\n",
      "=================================================\n",
      "Confusion Matrix: \n",
      "[[220  12]\n",
      " [255  47]]\n",
      "\n",
      "Test Results:\n",
      "=================================================\n",
      "Accuracy Score: 52.6086957%\n",
      "=================================================\n",
      "Classification Report: \n",
      "                  0.0         1.0  accuracy   macro avg  weighted avg\n",
      "precision    0.482587    0.827586  0.526087    0.655087      0.674587\n",
      "recall       0.950980    0.187500  0.526087    0.569240      0.526087\n",
      "f1-score     0.640264    0.305732  0.526087    0.472998      0.454090\n",
      "support    102.000000  128.000000  0.526087  230.000000    230.000000\n",
      "=================================================\n",
      "Confusion Matrix: \n",
      "[[ 97   5]\n",
      " [104  24]]\n"
     ]
    }
   ],
   "source": [
    "print(\"Decision Tree Scores:\")\n",
    "print()\n",
    "print_scores(dtc, X_train, X_test, y_train, y_test, train=True)\n",
    "print()\n",
    "print_scores(dtc, X_train, X_test, y_train, y_test, train=False)\n",
    "print()\n",
    "print(\"==========================================\")\n",
    "print()\n",
    "print(\"Naive Bayes Scores:\")\n",
    "print()\n",
    "print_scores(nbc, X_train, X_test, y_train, y_test, train=True)\n",
    "print()\n",
    "print_scores(nbc, X_train, X_test, y_train, y_test, train=False)"
   ]
  },
  {
   "cell_type": "markdown",
   "metadata": {
    "id": "0453IWmGsZ2y"
   },
   "source": [
    "Our efforts have yielded a significantly high accuracy rate along with some nice performance metrics. <br>\n",
    "Let's plot the the decision tree to see how it looks like."
   ]
  },
  {
   "cell_type": "code",
   "execution_count": 22,
   "metadata": {
    "colab": {
     "base_uri": "https://localhost:8080/"
    },
    "id": "fBVnFXycsZ2y",
    "outputId": "0f5fd72e-f6df-4611-d3c8-a0d3f16b8206"
   },
   "outputs": [
    {
     "name": "stdout",
     "output_type": "stream",
     "text": [
      "Requirement already satisfied: graphviz in /opt/anaconda3/lib/python3.7/site-packages (0.16)\r\n"
     ]
    }
   ],
   "source": [
    "!pip install graphviz"
   ]
  },
  {
   "cell_type": "markdown",
   "metadata": {
    "id": "mzde86bhsZ2z"
   },
   "source": [
    "## Data Reduction"
   ]
  },
  {
   "cell_type": "markdown",
   "metadata": {
    "id": "Kiwb8SzQsZ2z"
   },
   "source": [
    "In this phase, we will use dimensionality reduction, specifically feature selection, to decrease the number of features to determine if it improves cloud anomaly detection accuracy. <br>\n",
    "Let's use the f_classif filter method."
   ]
  },
  {
   "cell_type": "code",
   "execution_count": 23,
   "metadata": {
    "colab": {
     "base_uri": "https://localhost:8080/"
    },
    "id": "0XW2U0DGsZ2z",
    "outputId": "b4c403db-84c3-4659-acb3-6c2fb338c4e6"
   },
   "outputs": [
    {
     "data": {
      "text/plain": [
       "(764, 14)"
      ]
     },
     "execution_count": 23,
     "metadata": {},
     "output_type": "execute_result"
    }
   ],
   "source": [
    "from sklearn.feature_selection import SelectKBest, f_classif\n",
    "\n",
    "selector = SelectKBest(f_classif, k=14)\n",
    "\n",
    "selected_data = selector.fit_transform(X, y)\n",
    "\n",
    "selected_data.shape"
   ]
  },
  {
   "cell_type": "markdown",
   "metadata": {
    "id": "-PJxG1pOsZ20"
   },
   "source": [
    "After running the above code, we will get a dataset without feature names."
   ]
  },
  {
   "cell_type": "code",
   "execution_count": 24,
   "metadata": {
    "colab": {
     "base_uri": "https://localhost:8080/",
     "height": 204
    },
    "id": "miC_cD_0sZ20",
    "outputId": "52b113c1-117b-43f2-f94c-9bcc71eb0f4c"
   },
   "outputs": [
    {
     "data": {
      "text/html": [
       "<div>\n",
       "<style scoped>\n",
       "    .dataframe tbody tr th:only-of-type {\n",
       "        vertical-align: middle;\n",
       "    }\n",
       "\n",
       "    .dataframe tbody tr th {\n",
       "        vertical-align: top;\n",
       "    }\n",
       "\n",
       "    .dataframe thead th {\n",
       "        text-align: right;\n",
       "    }\n",
       "</style>\n",
       "<table border=\"1\" class=\"dataframe\">\n",
       "  <thead>\n",
       "    <tr style=\"text-align: right;\">\n",
       "      <th></th>\n",
       "      <th>0</th>\n",
       "      <th>1</th>\n",
       "      <th>2</th>\n",
       "      <th>3</th>\n",
       "      <th>4</th>\n",
       "      <th>5</th>\n",
       "      <th>6</th>\n",
       "      <th>7</th>\n",
       "      <th>8</th>\n",
       "      <th>9</th>\n",
       "      <th>10</th>\n",
       "      <th>11</th>\n",
       "      <th>12</th>\n",
       "      <th>13</th>\n",
       "    </tr>\n",
       "  </thead>\n",
       "  <tbody>\n",
       "    <tr>\n",
       "      <th>0</th>\n",
       "      <td>0.0</td>\n",
       "      <td>1.0</td>\n",
       "      <td>1.0</td>\n",
       "      <td>0.0</td>\n",
       "      <td>2.0</td>\n",
       "      <td>3.0</td>\n",
       "      <td>5.0</td>\n",
       "      <td>3.0</td>\n",
       "      <td>0.0</td>\n",
       "      <td>4.0</td>\n",
       "      <td>4.0</td>\n",
       "      <td>5.0</td>\n",
       "      <td>0.0</td>\n",
       "      <td>0.0</td>\n",
       "    </tr>\n",
       "    <tr>\n",
       "      <th>1</th>\n",
       "      <td>0.0</td>\n",
       "      <td>1.0</td>\n",
       "      <td>1.0</td>\n",
       "      <td>0.0</td>\n",
       "      <td>2.0</td>\n",
       "      <td>3.0</td>\n",
       "      <td>5.0</td>\n",
       "      <td>3.0</td>\n",
       "      <td>0.0</td>\n",
       "      <td>4.0</td>\n",
       "      <td>4.0</td>\n",
       "      <td>5.0</td>\n",
       "      <td>0.0</td>\n",
       "      <td>0.0</td>\n",
       "    </tr>\n",
       "    <tr>\n",
       "      <th>2</th>\n",
       "      <td>0.0</td>\n",
       "      <td>1.0</td>\n",
       "      <td>1.0</td>\n",
       "      <td>0.0</td>\n",
       "      <td>2.0</td>\n",
       "      <td>3.0</td>\n",
       "      <td>5.0</td>\n",
       "      <td>3.0</td>\n",
       "      <td>0.0</td>\n",
       "      <td>4.0</td>\n",
       "      <td>4.0</td>\n",
       "      <td>5.0</td>\n",
       "      <td>0.0</td>\n",
       "      <td>0.0</td>\n",
       "    </tr>\n",
       "    <tr>\n",
       "      <th>3</th>\n",
       "      <td>0.0</td>\n",
       "      <td>1.0</td>\n",
       "      <td>1.0</td>\n",
       "      <td>0.0</td>\n",
       "      <td>2.0</td>\n",
       "      <td>3.0</td>\n",
       "      <td>5.0</td>\n",
       "      <td>3.0</td>\n",
       "      <td>0.0</td>\n",
       "      <td>4.0</td>\n",
       "      <td>4.0</td>\n",
       "      <td>5.0</td>\n",
       "      <td>0.0</td>\n",
       "      <td>0.0</td>\n",
       "    </tr>\n",
       "    <tr>\n",
       "      <th>4</th>\n",
       "      <td>0.0</td>\n",
       "      <td>1.0</td>\n",
       "      <td>1.0</td>\n",
       "      <td>0.0</td>\n",
       "      <td>2.0</td>\n",
       "      <td>3.0</td>\n",
       "      <td>5.0</td>\n",
       "      <td>3.0</td>\n",
       "      <td>0.0</td>\n",
       "      <td>4.0</td>\n",
       "      <td>4.0</td>\n",
       "      <td>5.0</td>\n",
       "      <td>0.0</td>\n",
       "      <td>0.0</td>\n",
       "    </tr>\n",
       "  </tbody>\n",
       "</table>\n",
       "</div>"
      ],
      "text/plain": [
       "    0    1    2    3    4    5    6    7    8    9    10   11   12   13\n",
       "0  0.0  1.0  1.0  0.0  2.0  3.0  5.0  3.0  0.0  4.0  4.0  5.0  0.0  0.0\n",
       "1  0.0  1.0  1.0  0.0  2.0  3.0  5.0  3.0  0.0  4.0  4.0  5.0  0.0  0.0\n",
       "2  0.0  1.0  1.0  0.0  2.0  3.0  5.0  3.0  0.0  4.0  4.0  5.0  0.0  0.0\n",
       "3  0.0  1.0  1.0  0.0  2.0  3.0  5.0  3.0  0.0  4.0  4.0  5.0  0.0  0.0\n",
       "4  0.0  1.0  1.0  0.0  2.0  3.0  5.0  3.0  0.0  4.0  4.0  5.0  0.0  0.0"
      ]
     },
     "execution_count": 24,
     "metadata": {},
     "output_type": "execute_result"
    }
   ],
   "source": [
    "pd.DataFrame(selected_data).head()"
   ]
  },
  {
   "cell_type": "markdown",
   "metadata": {
    "id": "mrOIGbeNsZ20"
   },
   "source": [
    "To get the selected feature names, we run the following code."
   ]
  },
  {
   "cell_type": "code",
   "execution_count": 25,
   "metadata": {
    "colab": {
     "base_uri": "https://localhost:8080/",
     "height": 204
    },
    "id": "32hRLCqdsZ20",
    "outputId": "96cdf348-323e-4fdd-aeee-a4ee44dcdff9"
   },
   "outputs": [
    {
     "data": {
      "text/html": [
       "<div>\n",
       "<style scoped>\n",
       "    .dataframe tbody tr th:only-of-type {\n",
       "        vertical-align: middle;\n",
       "    }\n",
       "\n",
       "    .dataframe tbody tr th {\n",
       "        vertical-align: top;\n",
       "    }\n",
       "\n",
       "    .dataframe thead th {\n",
       "        text-align: right;\n",
       "    }\n",
       "</style>\n",
       "<table border=\"1\" class=\"dataframe\">\n",
       "  <thead>\n",
       "    <tr style=\"text-align: right;\">\n",
       "      <th></th>\n",
       "      <th>PID_mean</th>\n",
       "      <th>PID_var</th>\n",
       "      <th>PID_std</th>\n",
       "      <th>PPID_mean</th>\n",
       "      <th>PPID_var</th>\n",
       "      <th>PPID_std</th>\n",
       "      <th>Threads_mean</th>\n",
       "      <th>Handles_mean</th>\n",
       "      <th>Session_mean</th>\n",
       "      <th>Session_var</th>\n",
       "      <th>Session_std</th>\n",
       "      <th>Status_mean</th>\n",
       "      <th>Status_var</th>\n",
       "      <th>Status_std</th>\n",
       "    </tr>\n",
       "  </thead>\n",
       "  <tbody>\n",
       "    <tr>\n",
       "      <th>0</th>\n",
       "      <td>0.0</td>\n",
       "      <td>1.0</td>\n",
       "      <td>1.0</td>\n",
       "      <td>0.0</td>\n",
       "      <td>2.0</td>\n",
       "      <td>3.0</td>\n",
       "      <td>5.0</td>\n",
       "      <td>3.0</td>\n",
       "      <td>0.0</td>\n",
       "      <td>4.0</td>\n",
       "      <td>4.0</td>\n",
       "      <td>5.0</td>\n",
       "      <td>0.0</td>\n",
       "      <td>0.0</td>\n",
       "    </tr>\n",
       "    <tr>\n",
       "      <th>1</th>\n",
       "      <td>0.0</td>\n",
       "      <td>1.0</td>\n",
       "      <td>1.0</td>\n",
       "      <td>0.0</td>\n",
       "      <td>2.0</td>\n",
       "      <td>3.0</td>\n",
       "      <td>5.0</td>\n",
       "      <td>3.0</td>\n",
       "      <td>0.0</td>\n",
       "      <td>4.0</td>\n",
       "      <td>4.0</td>\n",
       "      <td>5.0</td>\n",
       "      <td>0.0</td>\n",
       "      <td>0.0</td>\n",
       "    </tr>\n",
       "    <tr>\n",
       "      <th>2</th>\n",
       "      <td>0.0</td>\n",
       "      <td>1.0</td>\n",
       "      <td>1.0</td>\n",
       "      <td>0.0</td>\n",
       "      <td>2.0</td>\n",
       "      <td>3.0</td>\n",
       "      <td>5.0</td>\n",
       "      <td>3.0</td>\n",
       "      <td>0.0</td>\n",
       "      <td>4.0</td>\n",
       "      <td>4.0</td>\n",
       "      <td>5.0</td>\n",
       "      <td>0.0</td>\n",
       "      <td>0.0</td>\n",
       "    </tr>\n",
       "    <tr>\n",
       "      <th>3</th>\n",
       "      <td>0.0</td>\n",
       "      <td>1.0</td>\n",
       "      <td>1.0</td>\n",
       "      <td>0.0</td>\n",
       "      <td>2.0</td>\n",
       "      <td>3.0</td>\n",
       "      <td>5.0</td>\n",
       "      <td>3.0</td>\n",
       "      <td>0.0</td>\n",
       "      <td>4.0</td>\n",
       "      <td>4.0</td>\n",
       "      <td>5.0</td>\n",
       "      <td>0.0</td>\n",
       "      <td>0.0</td>\n",
       "    </tr>\n",
       "    <tr>\n",
       "      <th>4</th>\n",
       "      <td>0.0</td>\n",
       "      <td>1.0</td>\n",
       "      <td>1.0</td>\n",
       "      <td>0.0</td>\n",
       "      <td>2.0</td>\n",
       "      <td>3.0</td>\n",
       "      <td>5.0</td>\n",
       "      <td>3.0</td>\n",
       "      <td>0.0</td>\n",
       "      <td>4.0</td>\n",
       "      <td>4.0</td>\n",
       "      <td>5.0</td>\n",
       "      <td>0.0</td>\n",
       "      <td>0.0</td>\n",
       "    </tr>\n",
       "  </tbody>\n",
       "</table>\n",
       "</div>"
      ],
      "text/plain": [
       "   PID_mean  PID_var  PID_std  PPID_mean  PPID_var  PPID_std  Threads_mean  \\\n",
       "0       0.0      1.0      1.0        0.0       2.0       3.0           5.0   \n",
       "1       0.0      1.0      1.0        0.0       2.0       3.0           5.0   \n",
       "2       0.0      1.0      1.0        0.0       2.0       3.0           5.0   \n",
       "3       0.0      1.0      1.0        0.0       2.0       3.0           5.0   \n",
       "4       0.0      1.0      1.0        0.0       2.0       3.0           5.0   \n",
       "\n",
       "   Handles_mean  Session_mean  Session_var  Session_std  Status_mean  \\\n",
       "0           3.0           0.0          4.0          4.0          5.0   \n",
       "1           3.0           0.0          4.0          4.0          5.0   \n",
       "2           3.0           0.0          4.0          4.0          5.0   \n",
       "3           3.0           0.0          4.0          4.0          5.0   \n",
       "4           3.0           0.0          4.0          4.0          5.0   \n",
       "\n",
       "   Status_var  Status_std  \n",
       "0         0.0         0.0  \n",
       "1         0.0         0.0  \n",
       "2         0.0         0.0  \n",
       "3         0.0         0.0  \n",
       "4         0.0         0.0  "
      ]
     },
     "execution_count": 25,
     "metadata": {},
     "output_type": "execute_result"
    }
   ],
   "source": [
    "mask = selector.get_support()\n",
    "selected_features = []\n",
    "\n",
    "for bool, feature in zip(mask, X.columns):\n",
    "    if bool:\n",
    "        selected_features.append(feature)\n",
    "\n",
    "newer_data = pd.DataFrame(selected_data, columns=selected_features)\n",
    "\n",
    "newer_data.head()"
   ]
  },
  {
   "cell_type": "markdown",
   "metadata": {
    "id": "MtclPAWqsZ20"
   },
   "source": [
    "We now have a dataset consisting of 14 features. Let's add the 'Label' columns to commence the classification process."
   ]
  },
  {
   "cell_type": "code",
   "execution_count": 26,
   "metadata": {
    "colab": {
     "base_uri": "https://localhost:8080/",
     "height": 204
    },
    "id": "YF5vhQjlsZ21",
    "outputId": "e36f1c3e-4773-4d0e-a766-e0d15415f141"
   },
   "outputs": [
    {
     "data": {
      "text/html": [
       "<div>\n",
       "<style scoped>\n",
       "    .dataframe tbody tr th:only-of-type {\n",
       "        vertical-align: middle;\n",
       "    }\n",
       "\n",
       "    .dataframe tbody tr th {\n",
       "        vertical-align: top;\n",
       "    }\n",
       "\n",
       "    .dataframe thead th {\n",
       "        text-align: right;\n",
       "    }\n",
       "</style>\n",
       "<table border=\"1\" class=\"dataframe\">\n",
       "  <thead>\n",
       "    <tr style=\"text-align: right;\">\n",
       "      <th></th>\n",
       "      <th>PID_mean</th>\n",
       "      <th>PID_var</th>\n",
       "      <th>PID_std</th>\n",
       "      <th>PPID_mean</th>\n",
       "      <th>PPID_var</th>\n",
       "      <th>PPID_std</th>\n",
       "      <th>Threads_mean</th>\n",
       "      <th>Handles_mean</th>\n",
       "      <th>Session_mean</th>\n",
       "      <th>Session_var</th>\n",
       "      <th>Session_std</th>\n",
       "      <th>Status_mean</th>\n",
       "      <th>Status_var</th>\n",
       "      <th>Status_std</th>\n",
       "      <th>Label</th>\n",
       "    </tr>\n",
       "  </thead>\n",
       "  <tbody>\n",
       "    <tr>\n",
       "      <th>0</th>\n",
       "      <td>0.0</td>\n",
       "      <td>1.0</td>\n",
       "      <td>1.0</td>\n",
       "      <td>0.0</td>\n",
       "      <td>2.0</td>\n",
       "      <td>3.0</td>\n",
       "      <td>5.0</td>\n",
       "      <td>3.0</td>\n",
       "      <td>0.0</td>\n",
       "      <td>4.0</td>\n",
       "      <td>4.0</td>\n",
       "      <td>5.0</td>\n",
       "      <td>0.0</td>\n",
       "      <td>0.0</td>\n",
       "      <td>0.0</td>\n",
       "    </tr>\n",
       "    <tr>\n",
       "      <th>1</th>\n",
       "      <td>0.0</td>\n",
       "      <td>1.0</td>\n",
       "      <td>1.0</td>\n",
       "      <td>0.0</td>\n",
       "      <td>2.0</td>\n",
       "      <td>3.0</td>\n",
       "      <td>5.0</td>\n",
       "      <td>3.0</td>\n",
       "      <td>0.0</td>\n",
       "      <td>4.0</td>\n",
       "      <td>4.0</td>\n",
       "      <td>5.0</td>\n",
       "      <td>0.0</td>\n",
       "      <td>0.0</td>\n",
       "      <td>0.0</td>\n",
       "    </tr>\n",
       "    <tr>\n",
       "      <th>2</th>\n",
       "      <td>0.0</td>\n",
       "      <td>1.0</td>\n",
       "      <td>1.0</td>\n",
       "      <td>0.0</td>\n",
       "      <td>2.0</td>\n",
       "      <td>3.0</td>\n",
       "      <td>5.0</td>\n",
       "      <td>3.0</td>\n",
       "      <td>0.0</td>\n",
       "      <td>4.0</td>\n",
       "      <td>4.0</td>\n",
       "      <td>5.0</td>\n",
       "      <td>0.0</td>\n",
       "      <td>0.0</td>\n",
       "      <td>0.0</td>\n",
       "    </tr>\n",
       "    <tr>\n",
       "      <th>3</th>\n",
       "      <td>0.0</td>\n",
       "      <td>1.0</td>\n",
       "      <td>1.0</td>\n",
       "      <td>0.0</td>\n",
       "      <td>2.0</td>\n",
       "      <td>3.0</td>\n",
       "      <td>5.0</td>\n",
       "      <td>3.0</td>\n",
       "      <td>0.0</td>\n",
       "      <td>4.0</td>\n",
       "      <td>4.0</td>\n",
       "      <td>5.0</td>\n",
       "      <td>0.0</td>\n",
       "      <td>0.0</td>\n",
       "      <td>0.0</td>\n",
       "    </tr>\n",
       "    <tr>\n",
       "      <th>4</th>\n",
       "      <td>0.0</td>\n",
       "      <td>1.0</td>\n",
       "      <td>1.0</td>\n",
       "      <td>0.0</td>\n",
       "      <td>2.0</td>\n",
       "      <td>3.0</td>\n",
       "      <td>5.0</td>\n",
       "      <td>3.0</td>\n",
       "      <td>0.0</td>\n",
       "      <td>4.0</td>\n",
       "      <td>4.0</td>\n",
       "      <td>5.0</td>\n",
       "      <td>0.0</td>\n",
       "      <td>0.0</td>\n",
       "      <td>0.0</td>\n",
       "    </tr>\n",
       "  </tbody>\n",
       "</table>\n",
       "</div>"
      ],
      "text/plain": [
       "   PID_mean  PID_var  PID_std  PPID_mean  PPID_var  PPID_std  Threads_mean  \\\n",
       "0       0.0      1.0      1.0        0.0       2.0       3.0           5.0   \n",
       "1       0.0      1.0      1.0        0.0       2.0       3.0           5.0   \n",
       "2       0.0      1.0      1.0        0.0       2.0       3.0           5.0   \n",
       "3       0.0      1.0      1.0        0.0       2.0       3.0           5.0   \n",
       "4       0.0      1.0      1.0        0.0       2.0       3.0           5.0   \n",
       "\n",
       "   Handles_mean  Session_mean  Session_var  Session_std  Status_mean  \\\n",
       "0           3.0           0.0          4.0          4.0          5.0   \n",
       "1           3.0           0.0          4.0          4.0          5.0   \n",
       "2           3.0           0.0          4.0          4.0          5.0   \n",
       "3           3.0           0.0          4.0          4.0          5.0   \n",
       "4           3.0           0.0          4.0          4.0          5.0   \n",
       "\n",
       "   Status_var  Status_std  Label  \n",
       "0         0.0         0.0    0.0  \n",
       "1         0.0         0.0    0.0  \n",
       "2         0.0         0.0    0.0  \n",
       "3         0.0         0.0    0.0  \n",
       "4         0.0         0.0    0.0  "
      ]
     },
     "execution_count": 26,
     "metadata": {},
     "output_type": "execute_result"
    }
   ],
   "source": [
    "newer_data['Label'] = new_data['Label']\n",
    "\n",
    "newer_data.head()"
   ]
  },
  {
   "cell_type": "markdown",
   "metadata": {
    "id": "da5YeioSsZ21"
   },
   "source": [
    "# Modelling (With Feature Selection)"
   ]
  },
  {
   "cell_type": "code",
   "execution_count": 27,
   "metadata": {},
   "outputs": [
    {
     "name": "stdout",
     "output_type": "stream",
     "text": [
      "Tree Score: 0.65 (+/- 0.03)\n",
      "Bayes Score: 0.26 (+/- 0.03)\n"
     ]
    }
   ],
   "source": [
    "X = newer_data.drop('Label', axis=1)\n",
    "y = newer_data['Label']\n",
    "\n",
    "X_train, X_test, y_train, y_test = train_test_split(X, y, test_size=0.3, random_state=42)\n",
    "\n",
    "clf = DecisionTreeClassifier(random_state=42)\n",
    "skf = StratifiedKFold(n_splits=3)\n",
    "\n",
    "scores = cross_val_score(clf, X_train, y_train, cv=skf, scoring='f1')\n",
    "print(\"Tree Score: %0.2f (+/- %0.2f)\" % (scores.mean(), scores.std() * 2))\n",
    "\n",
    "clf = GaussianNB()\n",
    "\n",
    "scores = cross_val_score(clf, X_train, y_train, cv=skf, scoring='f1')\n",
    "print(\"Bayes Score: %0.2f (+/- %0.2f)\" % (scores.mean(), scores.std() * 2))"
   ]
  },
  {
   "cell_type": "code",
   "execution_count": 28,
   "metadata": {
    "colab": {
     "base_uri": "https://localhost:8080/"
    },
    "id": "PJKctJWRsZ21",
    "outputId": "e5bb6226-e270-481d-9a15-a709735ff323"
   },
   "outputs": [
    {
     "name": "stdout",
     "output_type": "stream",
     "text": [
      "Fitting 3 folds for each of 4332 candidates, totalling 12996 fits\n"
     ]
    },
    {
     "name": "stderr",
     "output_type": "stream",
     "text": [
      "[Parallel(n_jobs=-1)]: Using backend LokyBackend with 6 concurrent workers.\n",
      "[Parallel(n_jobs=-1)]: Done 100 tasks      | elapsed:    0.2s\n",
      "[Parallel(n_jobs=-1)]: Done 8180 tasks      | elapsed:    7.2s\n",
      "[Parallel(n_jobs=-1)]: Done 12985 out of 12996 | elapsed:   11.0s remaining:    0.0s\n",
      "[Parallel(n_jobs=-1)]: Done 12996 out of 12996 | elapsed:   11.1s finished\n"
     ]
    },
    {
     "data": {
      "text/plain": [
       "DecisionTreeClassifier(max_depth=1, splitter='random')"
      ]
     },
     "execution_count": 28,
     "metadata": {},
     "output_type": "execute_result"
    }
   ],
   "source": [
    "dtc2 = DecisionTreeClassifier(random_state=42)\n",
    "\n",
    "# 3-fold cross-validation\n",
    "tree_cv = GridSearchCV(dtc2, tree_params, scoring='recall', n_jobs=-1, verbose=1, cv=3)\n",
    "tree_cv.fit(X_train, y_train)\n",
    "tree_best_params = tree_cv.best_params_\n",
    "\n",
    "dtc2 = DecisionTreeClassifier(**tree_best_params)\n",
    "dtc2.fit(X_train, y_train)"
   ]
  },
  {
   "cell_type": "code",
   "execution_count": 29,
   "metadata": {
    "colab": {
     "base_uri": "https://localhost:8080/"
    },
    "id": "k4tPJW6aTj-3",
    "outputId": "5dee851f-d570-464b-c50e-06a03c24c01f"
   },
   "outputs": [
    {
     "name": "stderr",
     "output_type": "stream",
     "text": [
      "[Parallel(n_jobs=-1)]: Using backend LokyBackend with 6 concurrent workers.\n"
     ]
    },
    {
     "name": "stdout",
     "output_type": "stream",
     "text": [
      "Fitting 3 folds for each of 100 candidates, totalling 300 fits\n"
     ]
    },
    {
     "name": "stderr",
     "output_type": "stream",
     "text": [
      "[Parallel(n_jobs=-1)]: Done 100 tasks      | elapsed:    0.2s\n",
      "[Parallel(n_jobs=-1)]: Done 300 out of 300 | elapsed:    0.3s finished\n"
     ]
    },
    {
     "data": {
      "text/plain": [
       "GaussianNB(var_smoothing=0.0037649358067924675)"
      ]
     },
     "execution_count": 29,
     "metadata": {},
     "output_type": "execute_result"
    }
   ],
   "source": [
    "nbc2 = GaussianNB()\n",
    "\n",
    "# 3-fold cross-validation\n",
    "bayes_cv = GridSearchCV(nbc2, bayes_params, scoring='recall', n_jobs=-1, verbose=1, cv=3)\n",
    "bayes_cv.fit(X_train, y_train)\n",
    "bayes_best_params = bayes_cv.best_params_\n",
    "\n",
    "nbc2 = GaussianNB(**bayes_best_params)\n",
    "nbc2.fit(X_train, y_train)"
   ]
  },
  {
   "cell_type": "code",
   "execution_count": 30,
   "metadata": {
    "colab": {
     "base_uri": "https://localhost:8080/"
    },
    "id": "WgveUJTCsZ21",
    "outputId": "961cb19b-98fd-4699-a9e7-db76f408bab4"
   },
   "outputs": [
    {
     "name": "stdout",
     "output_type": "stream",
     "text": [
      "Decision Tree Scores:\n",
      "\n",
      "Training Results:\n",
      "=================================================\n",
      "Accuracy Score: 59.9250936%\n",
      "=================================================\n",
      "Classification Report: \n",
      "                  0.0         1.0  accuracy   macro avg  weighted avg\n",
      "precision    0.530822    0.681818  0.599251    0.606320      0.616217\n",
      "recall       0.668103    0.546358  0.599251    0.607231      0.599251\n",
      "f1-score     0.591603    0.606618  0.599251    0.599110      0.600094\n",
      "support    232.000000  302.000000  0.599251  534.000000    534.000000\n",
      "=================================================\n",
      "Confusion Matrix: \n",
      "[[155  77]\n",
      " [137 165]]\n",
      "\n",
      "Test Results:\n",
      "=================================================\n",
      "Accuracy Score: 63.0434783%\n",
      "=================================================\n",
      "Classification Report: \n",
      "                  0.0         1.0  accuracy   macro avg  weighted avg\n",
      "precision    0.575221    0.683761  0.630435    0.629491      0.635626\n",
      "recall       0.637255    0.625000  0.630435    0.631127      0.630435\n",
      "f1-score     0.604651    0.653061  0.630435    0.628856      0.631592\n",
      "support    102.000000  128.000000  0.630435  230.000000    230.000000\n",
      "=================================================\n",
      "Confusion Matrix: \n",
      "[[65 37]\n",
      " [48 80]]\n",
      "\n",
      "==========================================\n",
      "\n",
      "Naive Bayes Scores:\n",
      "\n",
      "Training Results:\n",
      "=================================================\n",
      "Accuracy Score: 48.8764045%\n",
      "=================================================\n",
      "Classification Report: \n",
      "                  0.0         1.0  accuracy   macro avg  weighted avg\n",
      "precision    0.455914    0.710145  0.488764    0.583029      0.599693\n",
      "recall       0.913793    0.162252  0.488764    0.538022      0.488764\n",
      "f1-score     0.608321    0.264151  0.488764    0.436236      0.413678\n",
      "support    232.000000  302.000000  0.488764  534.000000    534.000000\n",
      "=================================================\n",
      "Confusion Matrix: \n",
      "[[212  20]\n",
      " [253  49]]\n",
      "\n",
      "Test Results:\n",
      "=================================================\n",
      "Accuracy Score: 53.0434783%\n",
      "=================================================\n",
      "Classification Report: \n",
      "                  0.0         1.0  accuracy   macro avg  weighted avg\n",
      "precision    0.484536    0.777778  0.530435    0.631157      0.647731\n",
      "recall       0.921569    0.218750  0.530435    0.570159      0.530435\n",
      "f1-score     0.635135    0.341463  0.530435    0.488299      0.471700\n",
      "support    102.000000  128.000000  0.530435  230.000000    230.000000\n",
      "=================================================\n",
      "Confusion Matrix: \n",
      "[[ 94   8]\n",
      " [100  28]]\n"
     ]
    }
   ],
   "source": [
    "print(\"Decision Tree Scores:\")\n",
    "print()\n",
    "print_scores(dtc2, X_train, X_test, y_train, y_test, train=True)\n",
    "print()\n",
    "print_scores(dtc2, X_train, X_test, y_train, y_test, train=False)\n",
    "print()\n",
    "print(\"==========================================\")\n",
    "print()\n",
    "print(\"Naive Bayes Scores:\")\n",
    "print()\n",
    "print_scores(nbc2, X_train, X_test, y_train, y_test, train=True)\n",
    "print()\n",
    "print_scores(nbc2, X_train, X_test, y_train, y_test, train=False)"
   ]
  }
 ],
 "metadata": {
  "colab": {
   "collapsed_sections": [],
   "name": "GUC Dataset Analysis.ipynb",
   "provenance": []
  },
  "kernelspec": {
   "display_name": "Python 3",
   "language": "python",
   "name": "python3"
  },
  "language_info": {
   "codemirror_mode": {
    "name": "ipython",
    "version": 3
   },
   "file_extension": ".py",
   "mimetype": "text/x-python",
   "name": "python",
   "nbconvert_exporter": "python",
   "pygments_lexer": "ipython3",
   "version": "3.7.7"
  }
 },
 "nbformat": 4,
 "nbformat_minor": 1
}
